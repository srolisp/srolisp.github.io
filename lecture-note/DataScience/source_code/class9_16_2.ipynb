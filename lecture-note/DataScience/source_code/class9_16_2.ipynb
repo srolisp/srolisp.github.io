{
 "cells": [
  {
   "cell_type": "code",
   "execution_count": 1,
   "metadata": {},
   "outputs": [
    {
     "name": "stdout",
     "output_type": "stream",
     "text": [
      "Requirement already satisfied: selenium in c:\\users\\user\\anaconda3\\envs\\sky\\lib\\site-packages (3.141.0)\n",
      "Requirement already satisfied: urllib3 in c:\\users\\user\\anaconda3\\envs\\sky\\lib\\site-packages (from selenium) (1.25.10)\n"
     ]
    }
   ],
   "source": [
    "!pip install selenium"
   ]
  },
  {
   "cell_type": "code",
   "execution_count": 2,
   "metadata": {},
   "outputs": [],
   "source": [
    "from selenium import webdriver"
   ]
  },
  {
   "cell_type": "code",
   "execution_count": 22,
   "metadata": {},
   "outputs": [],
   "source": [
    "driver = webdriver.Chrome('../driver/chromedriver')\n",
    "driver.get(\"http://www.opinet.co.kr/searRgSelect.do\")"
   ]
  },
  {
   "cell_type": "markdown",
   "metadata": {},
   "source": [
    "//*[@id=\"quick_ul\"]/li[2]/a/span"
   ]
  },
  {
   "cell_type": "code",
   "execution_count": 23,
   "metadata": {},
   "outputs": [],
   "source": [
    "xpath =\"\"\"//*[@id=\"quick_ul\"]/li[2]/a/span\"\"\"\n",
    "driver.find_element_by_xpath(xpath).click()"
   ]
  },
  {
   "cell_type": "markdown",
   "metadata": {},
   "source": [
    "//*[@id=\"SIGUNGU_NM0\"]"
   ]
  },
  {
   "cell_type": "code",
   "execution_count": 24,
   "metadata": {},
   "outputs": [],
   "source": [
    "gu_list_raw = driver.find_element_by_xpath(\"\"\"//*[@id=\"SIGUNGU_NM0\"]\"\"\")\n",
    "gu_list = gu_list_raw.find_elements_by_tag_name(\"option\")"
   ]
  },
  {
   "cell_type": "code",
   "execution_count": 25,
   "metadata": {},
   "outputs": [
    {
     "data": {
      "text/plain": [
       "['남구', '동구', '북구', '울주군', '중구']"
      ]
     },
     "execution_count": 25,
     "metadata": {},
     "output_type": "execute_result"
    }
   ],
   "source": [
    "gu_names = [option.get_attribute(\"value\") for option in gu_list]\n",
    "gu_names.remove('')\n",
    "gu_names"
   ]
  },
  {
   "cell_type": "code",
   "execution_count": 19,
   "metadata": {},
   "outputs": [],
   "source": [
    "element = driver.find_element_by_id(\"SIGUNGU_NM0\")\n",
    "element.send_keys(gu_names[1])"
   ]
  },
  {
   "cell_type": "code",
   "execution_count": 27,
   "metadata": {},
   "outputs": [],
   "source": [
    "xpath = \"\"\"//*[@id=\"searRgSelect\"]/span\"\"\"#//*[@id=\"searRgSelect\"]/span\n",
    "element_sel_gu = driver.find_element_by_xpath(xpath).click()"
   ]
  },
  {
   "cell_type": "code",
   "execution_count": 21,
   "metadata": {},
   "outputs": [],
   "source": [
    "xpath = \"\"\"//*[@id=\"glopopd_excel\"]\"\"\"#//*[@id=\"glopopd_excel\"]/span\n",
    "element_get_excel = driver.find_element_by_xpath(xpath).click()"
   ]
  },
  {
   "cell_type": "code",
   "execution_count": 28,
   "metadata": {},
   "outputs": [
    {
     "name": "stderr",
     "output_type": "stream",
     "text": [
      "<ipython-input-28-a4bcbff9b01d>:4: TqdmDeprecationWarning: This function will be removed in tqdm==5.0.0\n",
      "Please use `tqdm.notebook.tqdm` instead of `tqdm.tqdm_notebook`\n",
      "  for gu in tqdm_notebook(gu_names):\n"
     ]
    },
    {
     "data": {
      "application/vnd.jupyter.widget-view+json": {
       "model_id": "e00d3f36c48f4171a23ec74713f40b56",
       "version_major": 2,
       "version_minor": 0
      },
      "text/plain": [
       "HBox(children=(FloatProgress(value=0.0, max=5.0), HTML(value='')))"
      ]
     },
     "metadata": {},
     "output_type": "display_data"
    },
    {
     "name": "stdout",
     "output_type": "stream",
     "text": [
      "\n"
     ]
    }
   ],
   "source": [
    "import time\n",
    "from tqdm import tqdm_notebook\n",
    "\n",
    "for gu in tqdm_notebook(gu_names):\n",
    "    element = driver.find_element_by_id(\"SIGUNGU_NM0\")\n",
    "    element.send_keys(gu)\n",
    "    \n",
    "    time.sleep(2)\n",
    "    \n",
    "    xpath = \"\"\"//*[@id=\"searRgSelect\"]\"\"\"\n",
    "    element_sel_gu = driver.find_element_by_xpath(xpath).click()\n",
    "    \n",
    "    time.sleep(1)\n",
    "    \n",
    "    xpath = \"\"\"//*[@id=\"glopopd_excel\"]\"\"\"\n",
    "    element_get_excel = driver.find_element_by_xpath(xpath).click()\n",
    "    \n",
    "    time.sleep(1)"
   ]
  },
  {
   "cell_type": "code",
   "execution_count": 29,
   "metadata": {},
   "outputs": [],
   "source": [
    "driver.close()"
   ]
  },
  {
   "cell_type": "code",
   "execution_count": 30,
   "metadata": {},
   "outputs": [],
   "source": [
    "import pandas as pd\n",
    "from glob import glob"
   ]
  },
  {
   "cell_type": "code",
   "execution_count": 31,
   "metadata": {},
   "outputs": [
    {
     "data": {
      "text/plain": [
       "['../data\\\\지역_위치별(주유소) (1).xls',\n",
       " '../data\\\\지역_위치별(주유소) (2).xls',\n",
       " '../data\\\\지역_위치별(주유소) (3).xls',\n",
       " '../data\\\\지역_위치별(주유소) (4).xls',\n",
       " '../data\\\\지역_위치별(주유소) (5).xls']"
      ]
     },
     "execution_count": 31,
     "metadata": {},
     "output_type": "execute_result"
    }
   ],
   "source": [
    "glob('../data/지역_위치별(주유소)*xls')"
   ]
  },
  {
   "cell_type": "code",
   "execution_count": 33,
   "metadata": {},
   "outputs": [
    {
     "data": {
      "text/plain": [
       "['../data\\\\지역_위치별(주유소) (1).xls',\n",
       " '../data\\\\지역_위치별(주유소) (2).xls',\n",
       " '../data\\\\지역_위치별(주유소) (3).xls',\n",
       " '../data\\\\지역_위치별(주유소) (4).xls',\n",
       " '../data\\\\지역_위치별(주유소) (5).xls']"
      ]
     },
     "execution_count": 33,
     "metadata": {},
     "output_type": "execute_result"
    }
   ],
   "source": [
    "stations_files = glob('../data/지역_위치별(주유소)*xls')\n",
    "stations_files"
   ]
  },
  {
   "cell_type": "code",
   "execution_count": 34,
   "metadata": {},
   "outputs": [],
   "source": [
    "tmp_raw = []\n",
    "\n",
    "for file_name in stations_files:\n",
    "    tmp = pd.read_excel(file_name, header=2)\n",
    "    tmp_raw.append(tmp)\n",
    "    \n",
    "station_raw = pd.concat(tmp_raw)"
   ]
  },
  {
   "cell_type": "code",
   "execution_count": 35,
   "metadata": {},
   "outputs": [
    {
     "data": {
      "text/html": [
       "<div>\n",
       "<style scoped>\n",
       "    .dataframe tbody tr th:only-of-type {\n",
       "        vertical-align: middle;\n",
       "    }\n",
       "\n",
       "    .dataframe tbody tr th {\n",
       "        vertical-align: top;\n",
       "    }\n",
       "\n",
       "    .dataframe thead th {\n",
       "        text-align: right;\n",
       "    }\n",
       "</style>\n",
       "<table border=\"1\" class=\"dataframe\">\n",
       "  <thead>\n",
       "    <tr style=\"text-align: right;\">\n",
       "      <th></th>\n",
       "      <th>지역</th>\n",
       "      <th>상호</th>\n",
       "      <th>주소</th>\n",
       "      <th>상표</th>\n",
       "      <th>전화번호</th>\n",
       "      <th>셀프여부</th>\n",
       "      <th>고급휘발유</th>\n",
       "      <th>휘발유</th>\n",
       "      <th>경유</th>\n",
       "      <th>실내등유</th>\n",
       "    </tr>\n",
       "  </thead>\n",
       "  <tbody>\n",
       "    <tr>\n",
       "      <th>0</th>\n",
       "      <td>울산광역시</td>\n",
       "      <td>광신직영(흥부셀프)</td>\n",
       "      <td>울산 남구 월평로 152 (신정동)</td>\n",
       "      <td>자가상표</td>\n",
       "      <td>052-265-6777</td>\n",
       "      <td>Y</td>\n",
       "      <td>-</td>\n",
       "      <td>1277</td>\n",
       "      <td>1077</td>\n",
       "      <td>777</td>\n",
       "    </tr>\n",
       "    <tr>\n",
       "      <th>1</th>\n",
       "      <td>울산광역시</td>\n",
       "      <td>강변주유소</td>\n",
       "      <td>울산 남구 남산로 17 (무거동)</td>\n",
       "      <td>자가상표</td>\n",
       "      <td>052-222-4370</td>\n",
       "      <td>Y</td>\n",
       "      <td>-</td>\n",
       "      <td>1290</td>\n",
       "      <td>1090</td>\n",
       "      <td>-</td>\n",
       "    </tr>\n",
       "    <tr>\n",
       "      <th>2</th>\n",
       "      <td>울산광역시</td>\n",
       "      <td>강남셀프주유소</td>\n",
       "      <td>울산 남구 남산로 322</td>\n",
       "      <td>SK에너지</td>\n",
       "      <td>052-268-5149</td>\n",
       "      <td>Y</td>\n",
       "      <td>-</td>\n",
       "      <td>1298</td>\n",
       "      <td>1098</td>\n",
       "      <td>-</td>\n",
       "    </tr>\n",
       "    <tr>\n",
       "      <th>3</th>\n",
       "      <td>울산광역시</td>\n",
       "      <td>태화강셀프주유소</td>\n",
       "      <td>울산 남구 남산로 249 (신정동)</td>\n",
       "      <td>SK에너지</td>\n",
       "      <td>052-265-1430</td>\n",
       "      <td>Y</td>\n",
       "      <td>-</td>\n",
       "      <td>1299</td>\n",
       "      <td>1099</td>\n",
       "      <td>-</td>\n",
       "    </tr>\n",
       "    <tr>\n",
       "      <th>4</th>\n",
       "      <td>울산광역시</td>\n",
       "      <td>(주)일광주유소</td>\n",
       "      <td>울산광역시 남구  산업로 93 (상개동)</td>\n",
       "      <td>GS칼텍스</td>\n",
       "      <td>052-260-6860</td>\n",
       "      <td>Y</td>\n",
       "      <td>-</td>\n",
       "      <td>1299</td>\n",
       "      <td>1115</td>\n",
       "      <td>-</td>\n",
       "    </tr>\n",
       "  </tbody>\n",
       "</table>\n",
       "</div>"
      ],
      "text/plain": [
       "      지역          상호                      주소     상표          전화번호 셀프여부 고급휘발유  \\\n",
       "0  울산광역시  광신직영(흥부셀프)     울산 남구 월평로 152 (신정동)   자가상표  052-265-6777    Y     -   \n",
       "1  울산광역시       강변주유소      울산 남구 남산로 17 (무거동)   자가상표  052-222-4370    Y     -   \n",
       "2  울산광역시     강남셀프주유소           울산 남구 남산로 322  SK에너지  052-268-5149    Y     -   \n",
       "3  울산광역시    태화강셀프주유소     울산 남구 남산로 249 (신정동)  SK에너지  052-265-1430    Y     -   \n",
       "4  울산광역시    (주)일광주유소  울산광역시 남구  산업로 93 (상개동)  GS칼텍스  052-260-6860    Y     -   \n",
       "\n",
       "    휘발유    경유 실내등유  \n",
       "0  1277  1077  777  \n",
       "1  1290  1090    -  \n",
       "2  1298  1098    -  \n",
       "3  1299  1099    -  \n",
       "4  1299  1115    -  "
      ]
     },
     "execution_count": 35,
     "metadata": {},
     "output_type": "execute_result"
    }
   ],
   "source": [
    "station_raw.head()"
   ]
  },
  {
   "cell_type": "code",
   "execution_count": 36,
   "metadata": {},
   "outputs": [
    {
     "name": "stdout",
     "output_type": "stream",
     "text": [
      "<class 'pandas.core.frame.DataFrame'>\n",
      "Int64Index: 241 entries, 0 to 24\n",
      "Data columns (total 10 columns):\n",
      " #   Column  Non-Null Count  Dtype \n",
      "---  ------  --------------  ----- \n",
      " 0   지역      241 non-null    object\n",
      " 1   상호      241 non-null    object\n",
      " 2   주소      241 non-null    object\n",
      " 3   상표      241 non-null    object\n",
      " 4   전화번호    241 non-null    object\n",
      " 5   셀프여부    241 non-null    object\n",
      " 6   고급휘발유   241 non-null    object\n",
      " 7   휘발유     241 non-null    object\n",
      " 8   경유      241 non-null    object\n",
      " 9   실내등유    241 non-null    object\n",
      "dtypes: object(10)\n",
      "memory usage: 20.7+ KB\n"
     ]
    }
   ],
   "source": [
    "station_raw.info()"
   ]
  },
  {
   "cell_type": "code",
   "execution_count": 37,
   "metadata": {},
   "outputs": [
    {
     "data": {
      "text/html": [
       "<div>\n",
       "<style scoped>\n",
       "    .dataframe tbody tr th:only-of-type {\n",
       "        vertical-align: middle;\n",
       "    }\n",
       "\n",
       "    .dataframe tbody tr th {\n",
       "        vertical-align: top;\n",
       "    }\n",
       "\n",
       "    .dataframe thead th {\n",
       "        text-align: right;\n",
       "    }\n",
       "</style>\n",
       "<table border=\"1\" class=\"dataframe\">\n",
       "  <thead>\n",
       "    <tr style=\"text-align: right;\">\n",
       "      <th></th>\n",
       "      <th>Oil_store</th>\n",
       "      <th>주소</th>\n",
       "      <th>가격</th>\n",
       "      <th>셀프</th>\n",
       "      <th>상표</th>\n",
       "    </tr>\n",
       "  </thead>\n",
       "  <tbody>\n",
       "    <tr>\n",
       "      <th>0</th>\n",
       "      <td>광신직영(흥부셀프)</td>\n",
       "      <td>울산 남구 월평로 152 (신정동)</td>\n",
       "      <td>1277</td>\n",
       "      <td>Y</td>\n",
       "      <td>자가상표</td>\n",
       "    </tr>\n",
       "    <tr>\n",
       "      <th>1</th>\n",
       "      <td>강변주유소</td>\n",
       "      <td>울산 남구 남산로 17 (무거동)</td>\n",
       "      <td>1290</td>\n",
       "      <td>Y</td>\n",
       "      <td>자가상표</td>\n",
       "    </tr>\n",
       "    <tr>\n",
       "      <th>2</th>\n",
       "      <td>강남셀프주유소</td>\n",
       "      <td>울산 남구 남산로 322</td>\n",
       "      <td>1298</td>\n",
       "      <td>Y</td>\n",
       "      <td>SK에너지</td>\n",
       "    </tr>\n",
       "    <tr>\n",
       "      <th>3</th>\n",
       "      <td>태화강셀프주유소</td>\n",
       "      <td>울산 남구 남산로 249 (신정동)</td>\n",
       "      <td>1299</td>\n",
       "      <td>Y</td>\n",
       "      <td>SK에너지</td>\n",
       "    </tr>\n",
       "    <tr>\n",
       "      <th>4</th>\n",
       "      <td>(주)일광주유소</td>\n",
       "      <td>울산광역시 남구  산업로 93 (상개동)</td>\n",
       "      <td>1299</td>\n",
       "      <td>Y</td>\n",
       "      <td>GS칼텍스</td>\n",
       "    </tr>\n",
       "  </tbody>\n",
       "</table>\n",
       "</div>"
      ],
      "text/plain": [
       "    Oil_store                      주소    가격 셀프     상표\n",
       "0  광신직영(흥부셀프)     울산 남구 월평로 152 (신정동)  1277  Y   자가상표\n",
       "1       강변주유소      울산 남구 남산로 17 (무거동)  1290  Y   자가상표\n",
       "2     강남셀프주유소           울산 남구 남산로 322  1298  Y  SK에너지\n",
       "3    태화강셀프주유소     울산 남구 남산로 249 (신정동)  1299  Y  SK에너지\n",
       "4    (주)일광주유소  울산광역시 남구  산업로 93 (상개동)  1299  Y  GS칼텍스"
      ]
     },
     "execution_count": 37,
     "metadata": {},
     "output_type": "execute_result"
    }
   ],
   "source": [
    "stations = pd.DataFrame({'Oil_store':station_raw['상호'], \n",
    "                                       '주소':station_raw['주소'],\n",
    "                                       '가격':station_raw['휘발유'],\n",
    "                                       '셀프':station_raw['셀프여부'],\n",
    "                                       '상표':station_raw['상표']  })\n",
    "stations.head()"
   ]
  },
  {
   "cell_type": "code",
   "execution_count": 38,
   "metadata": {},
   "outputs": [
    {
     "data": {
      "text/html": [
       "<div>\n",
       "<style scoped>\n",
       "    .dataframe tbody tr th:only-of-type {\n",
       "        vertical-align: middle;\n",
       "    }\n",
       "\n",
       "    .dataframe tbody tr th {\n",
       "        vertical-align: top;\n",
       "    }\n",
       "\n",
       "    .dataframe thead th {\n",
       "        text-align: right;\n",
       "    }\n",
       "</style>\n",
       "<table border=\"1\" class=\"dataframe\">\n",
       "  <thead>\n",
       "    <tr style=\"text-align: right;\">\n",
       "      <th></th>\n",
       "      <th>Oil_store</th>\n",
       "      <th>주소</th>\n",
       "      <th>가격</th>\n",
       "      <th>셀프</th>\n",
       "      <th>상표</th>\n",
       "      <th>구</th>\n",
       "    </tr>\n",
       "  </thead>\n",
       "  <tbody>\n",
       "    <tr>\n",
       "      <th>0</th>\n",
       "      <td>광신직영(흥부셀프)</td>\n",
       "      <td>울산 남구 월평로 152 (신정동)</td>\n",
       "      <td>1277</td>\n",
       "      <td>Y</td>\n",
       "      <td>자가상표</td>\n",
       "      <td>남구</td>\n",
       "    </tr>\n",
       "    <tr>\n",
       "      <th>1</th>\n",
       "      <td>강변주유소</td>\n",
       "      <td>울산 남구 남산로 17 (무거동)</td>\n",
       "      <td>1290</td>\n",
       "      <td>Y</td>\n",
       "      <td>자가상표</td>\n",
       "      <td>남구</td>\n",
       "    </tr>\n",
       "    <tr>\n",
       "      <th>2</th>\n",
       "      <td>강남셀프주유소</td>\n",
       "      <td>울산 남구 남산로 322</td>\n",
       "      <td>1298</td>\n",
       "      <td>Y</td>\n",
       "      <td>SK에너지</td>\n",
       "      <td>남구</td>\n",
       "    </tr>\n",
       "    <tr>\n",
       "      <th>3</th>\n",
       "      <td>태화강셀프주유소</td>\n",
       "      <td>울산 남구 남산로 249 (신정동)</td>\n",
       "      <td>1299</td>\n",
       "      <td>Y</td>\n",
       "      <td>SK에너지</td>\n",
       "      <td>남구</td>\n",
       "    </tr>\n",
       "    <tr>\n",
       "      <th>4</th>\n",
       "      <td>(주)일광주유소</td>\n",
       "      <td>울산광역시 남구  산업로 93 (상개동)</td>\n",
       "      <td>1299</td>\n",
       "      <td>Y</td>\n",
       "      <td>GS칼텍스</td>\n",
       "      <td>남구</td>\n",
       "    </tr>\n",
       "  </tbody>\n",
       "</table>\n",
       "</div>"
      ],
      "text/plain": [
       "    Oil_store                      주소    가격 셀프     상표   구\n",
       "0  광신직영(흥부셀프)     울산 남구 월평로 152 (신정동)  1277  Y   자가상표  남구\n",
       "1       강변주유소      울산 남구 남산로 17 (무거동)  1290  Y   자가상표  남구\n",
       "2     강남셀프주유소           울산 남구 남산로 322  1298  Y  SK에너지  남구\n",
       "3    태화강셀프주유소     울산 남구 남산로 249 (신정동)  1299  Y  SK에너지  남구\n",
       "4    (주)일광주유소  울산광역시 남구  산업로 93 (상개동)  1299  Y  GS칼텍스  남구"
      ]
     },
     "execution_count": 38,
     "metadata": {},
     "output_type": "execute_result"
    }
   ],
   "source": [
    "stations['구'] = [eachAddress.split()[1] for eachAddress in stations['주소']]\n",
    "stations.head()"
   ]
  },
  {
   "cell_type": "code",
   "execution_count": 39,
   "metadata": {},
   "outputs": [
    {
     "data": {
      "text/html": [
       "<div>\n",
       "<style scoped>\n",
       "    .dataframe tbody tr th:only-of-type {\n",
       "        vertical-align: middle;\n",
       "    }\n",
       "\n",
       "    .dataframe tbody tr th {\n",
       "        vertical-align: top;\n",
       "    }\n",
       "\n",
       "    .dataframe thead th {\n",
       "        text-align: right;\n",
       "    }\n",
       "</style>\n",
       "<table border=\"1\" class=\"dataframe\">\n",
       "  <thead>\n",
       "    <tr style=\"text-align: right;\">\n",
       "      <th></th>\n",
       "      <th>Oil_store</th>\n",
       "      <th>주소</th>\n",
       "      <th>가격</th>\n",
       "      <th>셀프</th>\n",
       "      <th>상표</th>\n",
       "      <th>구</th>\n",
       "    </tr>\n",
       "  </thead>\n",
       "  <tbody>\n",
       "    <tr>\n",
       "      <th>61</th>\n",
       "      <td>무지개주유소</td>\n",
       "      <td>울산 남구 산업로 515 (여천동)</td>\n",
       "      <td>-</td>\n",
       "      <td>Y</td>\n",
       "      <td>SK에너지</td>\n",
       "      <td>남구</td>\n",
       "    </tr>\n",
       "    <tr>\n",
       "      <th>36</th>\n",
       "      <td>지에스칼텍스(주)태화주유소</td>\n",
       "      <td>울산광역시 북구  염포로 278 (효문동)</td>\n",
       "      <td>-</td>\n",
       "      <td>N</td>\n",
       "      <td>GS칼텍스</td>\n",
       "      <td>북구</td>\n",
       "    </tr>\n",
       "    <tr>\n",
       "      <th>37</th>\n",
       "      <td>새한주유소</td>\n",
       "      <td>울산 북구 효암로 84-1 (명촌동)</td>\n",
       "      <td>-</td>\n",
       "      <td>N</td>\n",
       "      <td>현대오일뱅크</td>\n",
       "      <td>북구</td>\n",
       "    </tr>\n",
       "    <tr>\n",
       "      <th>101</th>\n",
       "      <td>대복주유소</td>\n",
       "      <td>울산 울주군 웅촌면 웅촌로 671</td>\n",
       "      <td>-</td>\n",
       "      <td>N</td>\n",
       "      <td>현대오일뱅크</td>\n",
       "      <td>울주군</td>\n",
       "    </tr>\n",
       "    <tr>\n",
       "      <th>102</th>\n",
       "      <td>신영주유소</td>\n",
       "      <td>울산 울주군 웅촌면 웅촌로 81</td>\n",
       "      <td>-</td>\n",
       "      <td>N</td>\n",
       "      <td>GS칼텍스</td>\n",
       "      <td>울주군</td>\n",
       "    </tr>\n",
       "    <tr>\n",
       "      <th>103</th>\n",
       "      <td>울산컨트리주유소</td>\n",
       "      <td>울산 울주군 웅촌면 웅촌로 29</td>\n",
       "      <td>-</td>\n",
       "      <td>Y</td>\n",
       "      <td>SK에너지</td>\n",
       "      <td>울주군</td>\n",
       "    </tr>\n",
       "    <tr>\n",
       "      <th>104</th>\n",
       "      <td>신광주유소</td>\n",
       "      <td>울산 울주군 서생면 연산3길 50</td>\n",
       "      <td>-</td>\n",
       "      <td>N</td>\n",
       "      <td>현대오일뱅크</td>\n",
       "      <td>울주군</td>\n",
       "    </tr>\n",
       "  </tbody>\n",
       "</table>\n",
       "</div>"
      ],
      "text/plain": [
       "          Oil_store                       주소 가격 셀프      상표    구\n",
       "61           무지개주유소      울산 남구 산업로 515 (여천동)  -  Y   SK에너지   남구\n",
       "36   지에스칼텍스(주)태화주유소  울산광역시 북구  염포로 278 (효문동)  -  N   GS칼텍스   북구\n",
       "37            새한주유소     울산 북구 효암로 84-1 (명촌동)  -  N  현대오일뱅크   북구\n",
       "101           대복주유소       울산 울주군 웅촌면 웅촌로 671  -  N  현대오일뱅크  울주군\n",
       "102           신영주유소        울산 울주군 웅촌면 웅촌로 81  -  N   GS칼텍스  울주군\n",
       "103        울산컨트리주유소        울산 울주군 웅촌면 웅촌로 29  -  Y   SK에너지  울주군\n",
       "104           신광주유소       울산 울주군 서생면 연산3길 50  -  N  현대오일뱅크  울주군"
      ]
     },
     "execution_count": 39,
     "metadata": {},
     "output_type": "execute_result"
    }
   ],
   "source": [
    "stations[stations['가격']=='-']"
   ]
  },
  {
   "cell_type": "code",
   "execution_count": 40,
   "metadata": {},
   "outputs": [
    {
     "data": {
      "text/html": [
       "<div>\n",
       "<style scoped>\n",
       "    .dataframe tbody tr th:only-of-type {\n",
       "        vertical-align: middle;\n",
       "    }\n",
       "\n",
       "    .dataframe tbody tr th {\n",
       "        vertical-align: top;\n",
       "    }\n",
       "\n",
       "    .dataframe thead th {\n",
       "        text-align: right;\n",
       "    }\n",
       "</style>\n",
       "<table border=\"1\" class=\"dataframe\">\n",
       "  <thead>\n",
       "    <tr style=\"text-align: right;\">\n",
       "      <th></th>\n",
       "      <th>Oil_store</th>\n",
       "      <th>주소</th>\n",
       "      <th>가격</th>\n",
       "      <th>셀프</th>\n",
       "      <th>상표</th>\n",
       "      <th>구</th>\n",
       "    </tr>\n",
       "  </thead>\n",
       "  <tbody>\n",
       "    <tr>\n",
       "      <th>0</th>\n",
       "      <td>광신직영(흥부셀프)</td>\n",
       "      <td>울산 남구 월평로 152 (신정동)</td>\n",
       "      <td>1277</td>\n",
       "      <td>Y</td>\n",
       "      <td>자가상표</td>\n",
       "      <td>남구</td>\n",
       "    </tr>\n",
       "    <tr>\n",
       "      <th>1</th>\n",
       "      <td>강변주유소</td>\n",
       "      <td>울산 남구 남산로 17 (무거동)</td>\n",
       "      <td>1290</td>\n",
       "      <td>Y</td>\n",
       "      <td>자가상표</td>\n",
       "      <td>남구</td>\n",
       "    </tr>\n",
       "    <tr>\n",
       "      <th>2</th>\n",
       "      <td>강남셀프주유소</td>\n",
       "      <td>울산 남구 남산로 322</td>\n",
       "      <td>1298</td>\n",
       "      <td>Y</td>\n",
       "      <td>SK에너지</td>\n",
       "      <td>남구</td>\n",
       "    </tr>\n",
       "    <tr>\n",
       "      <th>3</th>\n",
       "      <td>태화강셀프주유소</td>\n",
       "      <td>울산 남구 남산로 249 (신정동)</td>\n",
       "      <td>1299</td>\n",
       "      <td>Y</td>\n",
       "      <td>SK에너지</td>\n",
       "      <td>남구</td>\n",
       "    </tr>\n",
       "    <tr>\n",
       "      <th>4</th>\n",
       "      <td>(주)일광주유소</td>\n",
       "      <td>울산광역시 남구  산업로 93 (상개동)</td>\n",
       "      <td>1299</td>\n",
       "      <td>Y</td>\n",
       "      <td>GS칼텍스</td>\n",
       "      <td>남구</td>\n",
       "    </tr>\n",
       "  </tbody>\n",
       "</table>\n",
       "</div>"
      ],
      "text/plain": [
       "    Oil_store                      주소    가격 셀프     상표   구\n",
       "0  광신직영(흥부셀프)     울산 남구 월평로 152 (신정동)  1277  Y   자가상표  남구\n",
       "1       강변주유소      울산 남구 남산로 17 (무거동)  1290  Y   자가상표  남구\n",
       "2     강남셀프주유소           울산 남구 남산로 322  1298  Y  SK에너지  남구\n",
       "3    태화강셀프주유소     울산 남구 남산로 249 (신정동)  1299  Y  SK에너지  남구\n",
       "4    (주)일광주유소  울산광역시 남구  산업로 93 (상개동)  1299  Y  GS칼텍스  남구"
      ]
     },
     "execution_count": 40,
     "metadata": {},
     "output_type": "execute_result"
    }
   ],
   "source": [
    "stations = stations[stations['가격'] != '-']\n",
    "stations.head()"
   ]
  },
  {
   "cell_type": "code",
   "execution_count": 41,
   "metadata": {},
   "outputs": [
    {
     "name": "stdout",
     "output_type": "stream",
     "text": [
      "<class 'pandas.core.frame.DataFrame'>\n",
      "Int64Index: 234 entries, 0 to 24\n",
      "Data columns (total 6 columns):\n",
      " #   Column     Non-Null Count  Dtype \n",
      "---  ------     --------------  ----- \n",
      " 0   Oil_store  234 non-null    object\n",
      " 1   주소         234 non-null    object\n",
      " 2   가격         234 non-null    object\n",
      " 3   셀프         234 non-null    object\n",
      " 4   상표         234 non-null    object\n",
      " 5   구          234 non-null    object\n",
      "dtypes: object(6)\n",
      "memory usage: 12.8+ KB\n"
     ]
    }
   ],
   "source": [
    "stations.info()"
   ]
  },
  {
   "cell_type": "code",
   "execution_count": 42,
   "metadata": {},
   "outputs": [],
   "source": [
    "stations['가격'] = [float(value) for value in stations['가격']]"
   ]
  },
  {
   "cell_type": "code",
   "execution_count": 43,
   "metadata": {},
   "outputs": [],
   "source": [
    "stations.reset_index(inplace=True)\n",
    "del stations['index']"
   ]
  },
  {
   "cell_type": "code",
   "execution_count": 44,
   "metadata": {},
   "outputs": [
    {
     "name": "stdout",
     "output_type": "stream",
     "text": [
      "<class 'pandas.core.frame.DataFrame'>\n",
      "RangeIndex: 234 entries, 0 to 233\n",
      "Data columns (total 6 columns):\n",
      " #   Column     Non-Null Count  Dtype  \n",
      "---  ------     --------------  -----  \n",
      " 0   Oil_store  234 non-null    object \n",
      " 1   주소         234 non-null    object \n",
      " 2   가격         234 non-null    float64\n",
      " 3   셀프         234 non-null    object \n",
      " 4   상표         234 non-null    object \n",
      " 5   구          234 non-null    object \n",
      "dtypes: float64(1), object(5)\n",
      "memory usage: 11.1+ KB\n"
     ]
    }
   ],
   "source": [
    "stations.info()"
   ]
  },
  {
   "cell_type": "code",
   "execution_count": 45,
   "metadata": {},
   "outputs": [],
   "source": [
    "import matplotlib.pyplot as plt\n",
    "import seaborn as sns\n",
    "%matplotlib inline\n",
    "\n",
    "import platform\n",
    "\n",
    "path = \"c:/Windows/Fonts/malgun.ttf\"\n",
    "from matplotlib import font_manager, rc\n",
    "if platform.system() == 'Darwin':\n",
    "    rc('font', family='AppleGothic')\n",
    "elif platform.system() == 'Windows':\n",
    "    font_name = font_manager.FontProperties(fname=path).get_name()\n",
    "    rc('font', family=font_name)\n",
    "else:\n",
    "    print('Unknown system... sorry~~~~') "
   ]
  },
  {
   "cell_type": "code",
   "execution_count": 46,
   "metadata": {},
   "outputs": [
    {
     "data": {
      "image/png": "[encoded data removed]",
      "text/plain": [
       "<Figure size 864x576 with 1 Axes>"
      ]
     },
     "metadata": {
      "needs_background": "light"
     },
     "output_type": "display_data"
    }
   ],
   "source": [
    "stations.boxplot(column='가격', by='셀프', figsize=(12,8));"
   ]
  },
  {
   "cell_type": "code",
   "execution_count": 47,
   "metadata": {},
   "outputs": [
    {
     "data": {
      "image/png": "[encoded data removed]",
      "text/plain": [
       "<Figure size 864x576 with 1 Axes>"
      ]
     },
     "metadata": {
      "needs_background": "light"
     },
     "output_type": "display_data"
    }
   ],
   "source": [
    "plt.figure(figsize=(12,8))\n",
    "sns.boxplot(x=\"상표\", y=\"가격\", hue=\"셀프\", data=stations, palette=\"Set3\")\n",
    "plt.show()"
   ]
  },
  {
   "cell_type": "code",
   "execution_count": 51,
   "metadata": {},
   "outputs": [
    {
     "data": {
      "text/html": [
       "<div>\n",
       "<style scoped>\n",
       "    .dataframe tbody tr th:only-of-type {\n",
       "        vertical-align: middle;\n",
       "    }\n",
       "\n",
       "    .dataframe tbody tr th {\n",
       "        vertical-align: top;\n",
       "    }\n",
       "\n",
       "    .dataframe thead th {\n",
       "        text-align: right;\n",
       "    }\n",
       "</style>\n",
       "<table border=\"1\" class=\"dataframe\">\n",
       "  <thead>\n",
       "    <tr style=\"text-align: right;\">\n",
       "      <th></th>\n",
       "      <th>Oil_store</th>\n",
       "      <th>주소</th>\n",
       "      <th>가격</th>\n",
       "      <th>셀프</th>\n",
       "      <th>상표</th>\n",
       "      <th>구</th>\n",
       "    </tr>\n",
       "  </thead>\n",
       "  <tbody>\n",
       "    <tr>\n",
       "      <th>209</th>\n",
       "      <td>차세대주유소</td>\n",
       "      <td>울산 중구 구교로 170 (반구동)</td>\n",
       "      <td>1265.0</td>\n",
       "      <td>Y</td>\n",
       "      <td>GS칼텍스</td>\n",
       "      <td>중구</td>\n",
       "    </tr>\n",
       "    <tr>\n",
       "      <th>72</th>\n",
       "      <td>현대주유소</td>\n",
       "      <td>울산 북구 산업로 1274 (창평동)</td>\n",
       "      <td>1265.0</td>\n",
       "      <td>N</td>\n",
       "      <td>현대오일뱅크</td>\n",
       "      <td>북구</td>\n",
       "    </tr>\n",
       "    <tr>\n",
       "      <th>73</th>\n",
       "      <td>보경주유소(주)</td>\n",
       "      <td>울산 북구 산업로 1602 (중산동)</td>\n",
       "      <td>1265.0</td>\n",
       "      <td>Y</td>\n",
       "      <td>GS칼텍스</td>\n",
       "      <td>북구</td>\n",
       "    </tr>\n",
       "    <tr>\n",
       "      <th>74</th>\n",
       "      <td>신천셀프주유소</td>\n",
       "      <td>울산 북구 산업로 1481 (신천동)</td>\n",
       "      <td>1265.0</td>\n",
       "      <td>Y</td>\n",
       "      <td>알뜰주유소</td>\n",
       "      <td>북구</td>\n",
       "    </tr>\n",
       "    <tr>\n",
       "      <th>61</th>\n",
       "      <td>소나타주유소</td>\n",
       "      <td>울산 동구 방어진순환도로 1280</td>\n",
       "      <td>1273.0</td>\n",
       "      <td>Y</td>\n",
       "      <td>현대오일뱅크</td>\n",
       "      <td>동구</td>\n",
       "    </tr>\n",
       "    <tr>\n",
       "      <th>108</th>\n",
       "      <td>율리셀프주유소</td>\n",
       "      <td>울산 울주군 청량면 웅촌로 1044</td>\n",
       "      <td>1275.0</td>\n",
       "      <td>Y</td>\n",
       "      <td>S-OIL</td>\n",
       "      <td>울주군</td>\n",
       "    </tr>\n",
       "    <tr>\n",
       "      <th>109</th>\n",
       "      <td>율선주유소</td>\n",
       "      <td>울산 울주군 청량면 웅촌로 1035</td>\n",
       "      <td>1275.0</td>\n",
       "      <td>N</td>\n",
       "      <td>GS칼텍스</td>\n",
       "      <td>울주군</td>\n",
       "    </tr>\n",
       "    <tr>\n",
       "      <th>62</th>\n",
       "      <td>남목주유소</td>\n",
       "      <td>울산 동구 방어진순환도로 1208 (서부동)</td>\n",
       "      <td>1275.0</td>\n",
       "      <td>Y</td>\n",
       "      <td>알뜰주유소</td>\n",
       "      <td>동구</td>\n",
       "    </tr>\n",
       "    <tr>\n",
       "      <th>110</th>\n",
       "      <td>(주)좋은기름나라 웅촌지점</td>\n",
       "      <td>울산 울주군 웅촌면 웅촌로 724</td>\n",
       "      <td>1275.0</td>\n",
       "      <td>Y</td>\n",
       "      <td>S-OIL</td>\n",
       "      <td>울주군</td>\n",
       "    </tr>\n",
       "    <tr>\n",
       "      <th>0</th>\n",
       "      <td>광신직영(흥부셀프)</td>\n",
       "      <td>울산 남구 월평로 152 (신정동)</td>\n",
       "      <td>1277.0</td>\n",
       "      <td>Y</td>\n",
       "      <td>자가상표</td>\n",
       "      <td>남구</td>\n",
       "    </tr>\n",
       "  </tbody>\n",
       "</table>\n",
       "</div>"
      ],
      "text/plain": [
       "          Oil_store                        주소      가격 셀프      상표    구\n",
       "209          차세대주유소       울산 중구 구교로 170 (반구동)  1265.0  Y   GS칼텍스   중구\n",
       "72            현대주유소      울산 북구 산업로 1274 (창평동)  1265.0  N  현대오일뱅크   북구\n",
       "73         보경주유소(주)      울산 북구 산업로 1602 (중산동)  1265.0  Y   GS칼텍스   북구\n",
       "74          신천셀프주유소      울산 북구 산업로 1481 (신천동)  1265.0  Y   알뜰주유소   북구\n",
       "61           소나타주유소        울산 동구 방어진순환도로 1280  1273.0  Y  현대오일뱅크   동구\n",
       "108         율리셀프주유소       울산 울주군 청량면 웅촌로 1044  1275.0  Y   S-OIL  울주군\n",
       "109           율선주유소       울산 울주군 청량면 웅촌로 1035  1275.0  N   GS칼텍스  울주군\n",
       "62            남목주유소  울산 동구 방어진순환도로 1208 (서부동)  1275.0  Y   알뜰주유소   동구\n",
       "110  (주)좋은기름나라 웅촌지점        울산 울주군 웅촌면 웅촌로 724  1275.0  Y   S-OIL  울주군\n",
       "0        광신직영(흥부셀프)       울산 남구 월평로 152 (신정동)  1277.0  Y    자가상표   남구"
      ]
     },
     "execution_count": 51,
     "metadata": {},
     "output_type": "execute_result"
    }
   ],
   "source": [
    "stations.sort_values(by='가격', ascending=True).head(10)"
   ]
  },
  {
   "cell_type": "code",
   "execution_count": null,
   "metadata": {},
   "outputs": [],
   "source": []
  }
 ],
 "metadata": {
  "kernelspec": {
   "display_name": "Python 3",
   "language": "python",
   "name": "python3"
  },
  "language_info": {
   "codemirror_mode": {
    "name": "ipython",
    "version": 3
   },
   "file_extension": ".py",
   "mimetype": "text/x-python",
   "name": "python",
   "nbconvert_exporter": "python",
   "pygments_lexer": "ipython3",
   "version": "3.8.3"
  }
 },
 "nbformat": 4,
 "nbformat_minor": 4
}
