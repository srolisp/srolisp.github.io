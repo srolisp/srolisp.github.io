{
 "cells": [
  {
   "cell_type": "code",
   "execution_count": 1,
   "metadata": {},
   "outputs": [],
   "source": [
    "import pandas as pd"
   ]
  },
  {
   "cell_type": "code",
   "execution_count": 2,
   "metadata": {},
   "outputs": [],
   "source": [
    "import numpy as np"
   ]
  },
  {
   "cell_type": "code",
   "execution_count": 3,
   "metadata": {},
   "outputs": [],
   "source": [
    "s=pd.Series([1,3,5,np.nan,6,8])"
   ]
  },
  {
   "cell_type": "code",
   "execution_count": 4,
   "metadata": {},
   "outputs": [
    {
     "data": {
      "text/plain": [
       "0    1.0\n",
       "1    3.0\n",
       "2    5.0\n",
       "3    NaN\n",
       "4    6.0\n",
       "5    8.0\n",
       "dtype: float64"
      ]
     },
     "execution_count": 4,
     "metadata": {},
     "output_type": "execute_result"
    }
   ],
   "source": [
    "s"
   ]
  },
  {
   "cell_type": "code",
   "execution_count": 5,
   "metadata": {},
   "outputs": [],
   "source": [
    "dates =pd.date_range('20200722',periods=6)"
   ]
  },
  {
   "cell_type": "code",
   "execution_count": 6,
   "metadata": {},
   "outputs": [
    {
     "data": {
      "text/plain": [
       "DatetimeIndex(['2020-07-22', '2020-07-23', '2020-07-24', '2020-07-25',\n",
       "               '2020-07-26', '2020-07-27'],\n",
       "              dtype='datetime64[ns]', freq='D')"
      ]
     },
     "execution_count": 6,
     "metadata": {},
     "output_type": "execute_result"
    }
   ],
   "source": [
    "dates"
   ]
  },
  {
   "cell_type": "code",
   "execution_count": 7,
   "metadata": {},
   "outputs": [],
   "source": [
    "df=pd.DataFrame(np.random.randn(6,4),index=dates,columns=['A','B','C','D'])"
   ]
  },
  {
   "cell_type": "code",
   "execution_count": 8,
   "metadata": {},
   "outputs": [
    {
     "data": {
      "text/html": [
       "<div>\n",
       "<style scoped>\n",
       "    .dataframe tbody tr th:only-of-type {\n",
       "        vertical-align: middle;\n",
       "    }\n",
       "\n",
       "    .dataframe tbody tr th {\n",
       "        vertical-align: top;\n",
       "    }\n",
       "\n",
       "    .dataframe thead th {\n",
       "        text-align: right;\n",
       "    }\n",
       "</style>\n",
       "<table border=\"1\" class=\"dataframe\">\n",
       "  <thead>\n",
       "    <tr style=\"text-align: right;\">\n",
       "      <th></th>\n",
       "      <th>A</th>\n",
       "      <th>B</th>\n",
       "      <th>C</th>\n",
       "      <th>D</th>\n",
       "    </tr>\n",
       "  </thead>\n",
       "  <tbody>\n",
       "    <tr>\n",
       "      <th>2020-07-22</th>\n",
       "      <td>0.291611</td>\n",
       "      <td>1.265408</td>\n",
       "      <td>0.847359</td>\n",
       "      <td>0.605956</td>\n",
       "    </tr>\n",
       "    <tr>\n",
       "      <th>2020-07-23</th>\n",
       "      <td>0.248920</td>\n",
       "      <td>2.441640</td>\n",
       "      <td>-0.852117</td>\n",
       "      <td>0.306564</td>\n",
       "    </tr>\n",
       "    <tr>\n",
       "      <th>2020-07-24</th>\n",
       "      <td>0.112499</td>\n",
       "      <td>-1.590205</td>\n",
       "      <td>-0.712084</td>\n",
       "      <td>0.023100</td>\n",
       "    </tr>\n",
       "    <tr>\n",
       "      <th>2020-07-25</th>\n",
       "      <td>2.014416</td>\n",
       "      <td>0.966365</td>\n",
       "      <td>-0.913182</td>\n",
       "      <td>1.503060</td>\n",
       "    </tr>\n",
       "    <tr>\n",
       "      <th>2020-07-26</th>\n",
       "      <td>-1.111736</td>\n",
       "      <td>-0.476259</td>\n",
       "      <td>-0.009779</td>\n",
       "      <td>-0.783358</td>\n",
       "    </tr>\n",
       "    <tr>\n",
       "      <th>2020-07-27</th>\n",
       "      <td>1.854471</td>\n",
       "      <td>-0.542992</td>\n",
       "      <td>-0.148964</td>\n",
       "      <td>-0.291622</td>\n",
       "    </tr>\n",
       "  </tbody>\n",
       "</table>\n",
       "</div>"
      ],
      "text/plain": [
       "                   A         B         C         D\n",
       "2020-07-22  0.291611  1.265408  0.847359  0.605956\n",
       "2020-07-23  0.248920  2.441640 -0.852117  0.306564\n",
       "2020-07-24  0.112499 -1.590205 -0.712084  0.023100\n",
       "2020-07-25  2.014416  0.966365 -0.913182  1.503060\n",
       "2020-07-26 -1.111736 -0.476259 -0.009779 -0.783358\n",
       "2020-07-27  1.854471 -0.542992 -0.148964 -0.291622"
      ]
     },
     "execution_count": 8,
     "metadata": {},
     "output_type": "execute_result"
    }
   ],
   "source": [
    "df"
   ]
  },
  {
   "cell_type": "code",
   "execution_count": 9,
   "metadata": {},
   "outputs": [
    {
     "data": {
      "text/html": [
       "<div>\n",
       "<style scoped>\n",
       "    .dataframe tbody tr th:only-of-type {\n",
       "        vertical-align: middle;\n",
       "    }\n",
       "\n",
       "    .dataframe tbody tr th {\n",
       "        vertical-align: top;\n",
       "    }\n",
       "\n",
       "    .dataframe thead th {\n",
       "        text-align: right;\n",
       "    }\n",
       "</style>\n",
       "<table border=\"1\" class=\"dataframe\">\n",
       "  <thead>\n",
       "    <tr style=\"text-align: right;\">\n",
       "      <th></th>\n",
       "      <th>A</th>\n",
       "      <th>B</th>\n",
       "      <th>C</th>\n",
       "      <th>D</th>\n",
       "    </tr>\n",
       "  </thead>\n",
       "  <tbody>\n",
       "    <tr>\n",
       "      <th>2020-07-22</th>\n",
       "      <td>0.291611</td>\n",
       "      <td>1.265408</td>\n",
       "      <td>0.847359</td>\n",
       "      <td>0.605956</td>\n",
       "    </tr>\n",
       "    <tr>\n",
       "      <th>2020-07-23</th>\n",
       "      <td>0.248920</td>\n",
       "      <td>2.441640</td>\n",
       "      <td>-0.852117</td>\n",
       "      <td>0.306564</td>\n",
       "    </tr>\n",
       "    <tr>\n",
       "      <th>2020-07-24</th>\n",
       "      <td>0.112499</td>\n",
       "      <td>-1.590205</td>\n",
       "      <td>-0.712084</td>\n",
       "      <td>0.023100</td>\n",
       "    </tr>\n",
       "    <tr>\n",
       "      <th>2020-07-25</th>\n",
       "      <td>2.014416</td>\n",
       "      <td>0.966365</td>\n",
       "      <td>-0.913182</td>\n",
       "      <td>1.503060</td>\n",
       "    </tr>\n",
       "    <tr>\n",
       "      <th>2020-07-26</th>\n",
       "      <td>-1.111736</td>\n",
       "      <td>-0.476259</td>\n",
       "      <td>-0.009779</td>\n",
       "      <td>-0.783358</td>\n",
       "    </tr>\n",
       "  </tbody>\n",
       "</table>\n",
       "</div>"
      ],
      "text/plain": [
       "                   A         B         C         D\n",
       "2020-07-22  0.291611  1.265408  0.847359  0.605956\n",
       "2020-07-23  0.248920  2.441640 -0.852117  0.306564\n",
       "2020-07-24  0.112499 -1.590205 -0.712084  0.023100\n",
       "2020-07-25  2.014416  0.966365 -0.913182  1.503060\n",
       "2020-07-26 -1.111736 -0.476259 -0.009779 -0.783358"
      ]
     },
     "execution_count": 9,
     "metadata": {},
     "output_type": "execute_result"
    }
   ],
   "source": [
    "df.head()"
   ]
  },
  {
   "cell_type": "code",
   "execution_count": 11,
   "metadata": {},
   "outputs": [
    {
     "data": {
      "text/plain": [
       "DatetimeIndex(['2020-07-22', '2020-07-23', '2020-07-24', '2020-07-25',\n",
       "               '2020-07-26', '2020-07-27'],\n",
       "              dtype='datetime64[ns]', freq='D')"
      ]
     },
     "execution_count": 11,
     "metadata": {},
     "output_type": "execute_result"
    }
   ],
   "source": [
    "df.index"
   ]
  },
  {
   "cell_type": "code",
   "execution_count": 12,
   "metadata": {},
   "outputs": [
    {
     "data": {
      "text/plain": [
       "Index(['A', 'B', 'C', 'D'], dtype='object')"
      ]
     },
     "execution_count": 12,
     "metadata": {},
     "output_type": "execute_result"
    }
   ],
   "source": [
    "df.columns"
   ]
  },
  {
   "cell_type": "code",
   "execution_count": 13,
   "metadata": {},
   "outputs": [
    {
     "data": {
      "text/plain": [
       "array([[ 0.29161145,  1.26540792,  0.84735858,  0.60595617],\n",
       "       [ 0.24891975,  2.44163969, -0.8521174 ,  0.30656422],\n",
       "       [ 0.11249939, -1.59020463, -0.71208415,  0.0231004 ],\n",
       "       [ 2.01441566,  0.96636528, -0.91318243,  1.50305968],\n",
       "       [-1.11173585, -0.47625886, -0.00977878, -0.78335807],\n",
       "       [ 1.85447124, -0.54299162, -0.14896409, -0.29162199]])"
      ]
     },
     "execution_count": 13,
     "metadata": {},
     "output_type": "execute_result"
    }
   ],
   "source": [
    "df.values"
   ]
  },
  {
   "cell_type": "code",
   "execution_count": 14,
   "metadata": {},
   "outputs": [
    {
     "name": "stdout",
     "output_type": "stream",
     "text": [
      "<class 'pandas.core.frame.DataFrame'>\n",
      "DatetimeIndex: 6 entries, 2020-07-22 to 2020-07-27\n",
      "Freq: D\n",
      "Data columns (total 4 columns):\n",
      " #   Column  Non-Null Count  Dtype  \n",
      "---  ------  --------------  -----  \n",
      " 0   A       6 non-null      float64\n",
      " 1   B       6 non-null      float64\n",
      " 2   C       6 non-null      float64\n",
      " 3   D       6 non-null      float64\n",
      "dtypes: float64(4)\n",
      "memory usage: 240.0 bytes\n"
     ]
    }
   ],
   "source": [
    "df.info()"
   ]
  },
  {
   "cell_type": "code",
   "execution_count": 15,
   "metadata": {},
   "outputs": [
    {
     "data": {
      "text/html": [
       "<div>\n",
       "<style scoped>\n",
       "    .dataframe tbody tr th:only-of-type {\n",
       "        vertical-align: middle;\n",
       "    }\n",
       "\n",
       "    .dataframe tbody tr th {\n",
       "        vertical-align: top;\n",
       "    }\n",
       "\n",
       "    .dataframe thead th {\n",
       "        text-align: right;\n",
       "    }\n",
       "</style>\n",
       "<table border=\"1\" class=\"dataframe\">\n",
       "  <thead>\n",
       "    <tr style=\"text-align: right;\">\n",
       "      <th></th>\n",
       "      <th>A</th>\n",
       "      <th>B</th>\n",
       "      <th>C</th>\n",
       "      <th>D</th>\n",
       "    </tr>\n",
       "  </thead>\n",
       "  <tbody>\n",
       "    <tr>\n",
       "      <th>count</th>\n",
       "      <td>6.000000</td>\n",
       "      <td>6.000000</td>\n",
       "      <td>6.000000</td>\n",
       "      <td>6.000000</td>\n",
       "    </tr>\n",
       "    <tr>\n",
       "      <th>mean</th>\n",
       "      <td>0.568364</td>\n",
       "      <td>0.343993</td>\n",
       "      <td>-0.298128</td>\n",
       "      <td>0.227283</td>\n",
       "    </tr>\n",
       "    <tr>\n",
       "      <th>std</th>\n",
       "      <td>1.179349</td>\n",
       "      <td>1.472219</td>\n",
       "      <td>0.674402</td>\n",
       "      <td>0.788623</td>\n",
       "    </tr>\n",
       "    <tr>\n",
       "      <th>min</th>\n",
       "      <td>-1.111736</td>\n",
       "      <td>-1.590205</td>\n",
       "      <td>-0.913182</td>\n",
       "      <td>-0.783358</td>\n",
       "    </tr>\n",
       "    <tr>\n",
       "      <th>25%</th>\n",
       "      <td>0.146604</td>\n",
       "      <td>-0.526308</td>\n",
       "      <td>-0.817109</td>\n",
       "      <td>-0.212941</td>\n",
       "    </tr>\n",
       "    <tr>\n",
       "      <th>50%</th>\n",
       "      <td>0.270266</td>\n",
       "      <td>0.245053</td>\n",
       "      <td>-0.430524</td>\n",
       "      <td>0.164832</td>\n",
       "    </tr>\n",
       "    <tr>\n",
       "      <th>75%</th>\n",
       "      <td>1.463756</td>\n",
       "      <td>1.190647</td>\n",
       "      <td>-0.044575</td>\n",
       "      <td>0.531108</td>\n",
       "    </tr>\n",
       "    <tr>\n",
       "      <th>max</th>\n",
       "      <td>2.014416</td>\n",
       "      <td>2.441640</td>\n",
       "      <td>0.847359</td>\n",
       "      <td>1.503060</td>\n",
       "    </tr>\n",
       "  </tbody>\n",
       "</table>\n",
       "</div>"
      ],
      "text/plain": [
       "              A         B         C         D\n",
       "count  6.000000  6.000000  6.000000  6.000000\n",
       "mean   0.568364  0.343993 -0.298128  0.227283\n",
       "std    1.179349  1.472219  0.674402  0.788623\n",
       "min   -1.111736 -1.590205 -0.913182 -0.783358\n",
       "25%    0.146604 -0.526308 -0.817109 -0.212941\n",
       "50%    0.270266  0.245053 -0.430524  0.164832\n",
       "75%    1.463756  1.190647 -0.044575  0.531108\n",
       "max    2.014416  2.441640  0.847359  1.503060"
      ]
     },
     "execution_count": 15,
     "metadata": {},
     "output_type": "execute_result"
    }
   ],
   "source": [
    "df.describe()"
   ]
  },
  {
   "cell_type": "code",
   "execution_count": 16,
   "metadata": {},
   "outputs": [
    {
     "data": {
      "text/html": [
       "<div>\n",
       "<style scoped>\n",
       "    .dataframe tbody tr th:only-of-type {\n",
       "        vertical-align: middle;\n",
       "    }\n",
       "\n",
       "    .dataframe tbody tr th {\n",
       "        vertical-align: top;\n",
       "    }\n",
       "\n",
       "    .dataframe thead th {\n",
       "        text-align: right;\n",
       "    }\n",
       "</style>\n",
       "<table border=\"1\" class=\"dataframe\">\n",
       "  <thead>\n",
       "    <tr style=\"text-align: right;\">\n",
       "      <th></th>\n",
       "      <th>A</th>\n",
       "      <th>B</th>\n",
       "      <th>C</th>\n",
       "      <th>D</th>\n",
       "    </tr>\n",
       "  </thead>\n",
       "  <tbody>\n",
       "    <tr>\n",
       "      <th>2020-07-22</th>\n",
       "      <td>0.291611</td>\n",
       "      <td>1.265408</td>\n",
       "      <td>0.847359</td>\n",
       "      <td>0.605956</td>\n",
       "    </tr>\n",
       "    <tr>\n",
       "      <th>2020-07-23</th>\n",
       "      <td>0.248920</td>\n",
       "      <td>2.441640</td>\n",
       "      <td>-0.852117</td>\n",
       "      <td>0.306564</td>\n",
       "    </tr>\n",
       "    <tr>\n",
       "      <th>2020-07-24</th>\n",
       "      <td>0.112499</td>\n",
       "      <td>-1.590205</td>\n",
       "      <td>-0.712084</td>\n",
       "      <td>0.023100</td>\n",
       "    </tr>\n",
       "    <tr>\n",
       "      <th>2020-07-25</th>\n",
       "      <td>2.014416</td>\n",
       "      <td>0.966365</td>\n",
       "      <td>-0.913182</td>\n",
       "      <td>1.503060</td>\n",
       "    </tr>\n",
       "    <tr>\n",
       "      <th>2020-07-26</th>\n",
       "      <td>-1.111736</td>\n",
       "      <td>-0.476259</td>\n",
       "      <td>-0.009779</td>\n",
       "      <td>-0.783358</td>\n",
       "    </tr>\n",
       "    <tr>\n",
       "      <th>2020-07-27</th>\n",
       "      <td>1.854471</td>\n",
       "      <td>-0.542992</td>\n",
       "      <td>-0.148964</td>\n",
       "      <td>-0.291622</td>\n",
       "    </tr>\n",
       "  </tbody>\n",
       "</table>\n",
       "</div>"
      ],
      "text/plain": [
       "                   A         B         C         D\n",
       "2020-07-22  0.291611  1.265408  0.847359  0.605956\n",
       "2020-07-23  0.248920  2.441640 -0.852117  0.306564\n",
       "2020-07-24  0.112499 -1.590205 -0.712084  0.023100\n",
       "2020-07-25  2.014416  0.966365 -0.913182  1.503060\n",
       "2020-07-26 -1.111736 -0.476259 -0.009779 -0.783358\n",
       "2020-07-27  1.854471 -0.542992 -0.148964 -0.291622"
      ]
     },
     "execution_count": 16,
     "metadata": {},
     "output_type": "execute_result"
    }
   ],
   "source": [
    "df"
   ]
  },
  {
   "cell_type": "code",
   "execution_count": 18,
   "metadata": {},
   "outputs": [
    {
     "data": {
      "text/plain": [
       "2020-07-22    1.265408\n",
       "2020-07-23    2.441640\n",
       "2020-07-24   -1.590205\n",
       "2020-07-25    0.966365\n",
       "2020-07-26   -0.476259\n",
       "2020-07-27   -0.542992\n",
       "Freq: D, Name: B, dtype: float64"
      ]
     },
     "execution_count": 18,
     "metadata": {},
     "output_type": "execute_result"
    }
   ],
   "source": [
    "df['B']"
   ]
  },
  {
   "cell_type": "code",
   "execution_count": 19,
   "metadata": {},
   "outputs": [
    {
     "data": {
      "text/html": [
       "<div>\n",
       "<style scoped>\n",
       "    .dataframe tbody tr th:only-of-type {\n",
       "        vertical-align: middle;\n",
       "    }\n",
       "\n",
       "    .dataframe tbody tr th {\n",
       "        vertical-align: top;\n",
       "    }\n",
       "\n",
       "    .dataframe thead th {\n",
       "        text-align: right;\n",
       "    }\n",
       "</style>\n",
       "<table border=\"1\" class=\"dataframe\">\n",
       "  <thead>\n",
       "    <tr style=\"text-align: right;\">\n",
       "      <th></th>\n",
       "      <th>A</th>\n",
       "      <th>B</th>\n",
       "      <th>C</th>\n",
       "      <th>D</th>\n",
       "    </tr>\n",
       "  </thead>\n",
       "  <tbody>\n",
       "    <tr>\n",
       "      <th>2020-07-22</th>\n",
       "      <td>0.291611</td>\n",
       "      <td>1.265408</td>\n",
       "      <td>0.847359</td>\n",
       "      <td>0.605956</td>\n",
       "    </tr>\n",
       "    <tr>\n",
       "      <th>2020-07-23</th>\n",
       "      <td>0.248920</td>\n",
       "      <td>2.441640</td>\n",
       "      <td>-0.852117</td>\n",
       "      <td>0.306564</td>\n",
       "    </tr>\n",
       "    <tr>\n",
       "      <th>2020-07-24</th>\n",
       "      <td>0.112499</td>\n",
       "      <td>-1.590205</td>\n",
       "      <td>-0.712084</td>\n",
       "      <td>0.023100</td>\n",
       "    </tr>\n",
       "  </tbody>\n",
       "</table>\n",
       "</div>"
      ],
      "text/plain": [
       "                   A         B         C         D\n",
       "2020-07-22  0.291611  1.265408  0.847359  0.605956\n",
       "2020-07-23  0.248920  2.441640 -0.852117  0.306564\n",
       "2020-07-24  0.112499 -1.590205 -0.712084  0.023100"
      ]
     },
     "execution_count": 19,
     "metadata": {},
     "output_type": "execute_result"
    }
   ],
   "source": [
    "df[0:3]"
   ]
  },
  {
   "cell_type": "code",
   "execution_count": 20,
   "metadata": {},
   "outputs": [
    {
     "data": {
      "text/html": [
       "<div>\n",
       "<style scoped>\n",
       "    .dataframe tbody tr th:only-of-type {\n",
       "        vertical-align: middle;\n",
       "    }\n",
       "\n",
       "    .dataframe tbody tr th {\n",
       "        vertical-align: top;\n",
       "    }\n",
       "\n",
       "    .dataframe thead th {\n",
       "        text-align: right;\n",
       "    }\n",
       "</style>\n",
       "<table border=\"1\" class=\"dataframe\">\n",
       "  <thead>\n",
       "    <tr style=\"text-align: right;\">\n",
       "      <th></th>\n",
       "      <th>A</th>\n",
       "      <th>B</th>\n",
       "      <th>C</th>\n",
       "      <th>D</th>\n",
       "    </tr>\n",
       "  </thead>\n",
       "  <tbody>\n",
       "    <tr>\n",
       "      <th>2020-07-24</th>\n",
       "      <td>0.112499</td>\n",
       "      <td>-1.590205</td>\n",
       "      <td>-0.712084</td>\n",
       "      <td>0.023100</td>\n",
       "    </tr>\n",
       "    <tr>\n",
       "      <th>2020-07-25</th>\n",
       "      <td>2.014416</td>\n",
       "      <td>0.966365</td>\n",
       "      <td>-0.913182</td>\n",
       "      <td>1.503060</td>\n",
       "    </tr>\n",
       "    <tr>\n",
       "      <th>2020-07-26</th>\n",
       "      <td>-1.111736</td>\n",
       "      <td>-0.476259</td>\n",
       "      <td>-0.009779</td>\n",
       "      <td>-0.783358</td>\n",
       "    </tr>\n",
       "  </tbody>\n",
       "</table>\n",
       "</div>"
      ],
      "text/plain": [
       "                   A         B         C         D\n",
       "2020-07-24  0.112499 -1.590205 -0.712084  0.023100\n",
       "2020-07-25  2.014416  0.966365 -0.913182  1.503060\n",
       "2020-07-26 -1.111736 -0.476259 -0.009779 -0.783358"
      ]
     },
     "execution_count": 20,
     "metadata": {},
     "output_type": "execute_result"
    }
   ],
   "source": [
    "df[2:5]"
   ]
  },
  {
   "cell_type": "code",
   "execution_count": 21,
   "metadata": {},
   "outputs": [
    {
     "data": {
      "text/html": [
       "<div>\n",
       "<style scoped>\n",
       "    .dataframe tbody tr th:only-of-type {\n",
       "        vertical-align: middle;\n",
       "    }\n",
       "\n",
       "    .dataframe tbody tr th {\n",
       "        vertical-align: top;\n",
       "    }\n",
       "\n",
       "    .dataframe thead th {\n",
       "        text-align: right;\n",
       "    }\n",
       "</style>\n",
       "<table border=\"1\" class=\"dataframe\">\n",
       "  <thead>\n",
       "    <tr style=\"text-align: right;\">\n",
       "      <th></th>\n",
       "      <th>A</th>\n",
       "      <th>B</th>\n",
       "      <th>C</th>\n",
       "      <th>D</th>\n",
       "    </tr>\n",
       "  </thead>\n",
       "  <tbody>\n",
       "    <tr>\n",
       "      <th>2020-07-23</th>\n",
       "      <td>0.248920</td>\n",
       "      <td>2.441640</td>\n",
       "      <td>-0.852117</td>\n",
       "      <td>0.306564</td>\n",
       "    </tr>\n",
       "    <tr>\n",
       "      <th>2020-07-24</th>\n",
       "      <td>0.112499</td>\n",
       "      <td>-1.590205</td>\n",
       "      <td>-0.712084</td>\n",
       "      <td>0.023100</td>\n",
       "    </tr>\n",
       "    <tr>\n",
       "      <th>2020-07-25</th>\n",
       "      <td>2.014416</td>\n",
       "      <td>0.966365</td>\n",
       "      <td>-0.913182</td>\n",
       "      <td>1.503060</td>\n",
       "    </tr>\n",
       "    <tr>\n",
       "      <th>2020-07-26</th>\n",
       "      <td>-1.111736</td>\n",
       "      <td>-0.476259</td>\n",
       "      <td>-0.009779</td>\n",
       "      <td>-0.783358</td>\n",
       "    </tr>\n",
       "  </tbody>\n",
       "</table>\n",
       "</div>"
      ],
      "text/plain": [
       "                   A         B         C         D\n",
       "2020-07-23  0.248920  2.441640 -0.852117  0.306564\n",
       "2020-07-24  0.112499 -1.590205 -0.712084  0.023100\n",
       "2020-07-25  2.014416  0.966365 -0.913182  1.503060\n",
       "2020-07-26 -1.111736 -0.476259 -0.009779 -0.783358"
      ]
     },
     "execution_count": 21,
     "metadata": {},
     "output_type": "execute_result"
    }
   ],
   "source": [
    "df['20200723':'20200726']"
   ]
  },
  {
   "cell_type": "code",
   "execution_count": 22,
   "metadata": {},
   "outputs": [],
   "source": [
    "aaaaa=df['20200723':'20200726']"
   ]
  },
  {
   "cell_type": "code",
   "execution_count": 23,
   "metadata": {},
   "outputs": [
    {
     "data": {
      "text/plain": [
       "A    0.291611\n",
       "B    1.265408\n",
       "C    0.847359\n",
       "D    0.605956\n",
       "Name: 2020-07-22 00:00:00, dtype: float64"
      ]
     },
     "execution_count": 23,
     "metadata": {},
     "output_type": "execute_result"
    }
   ],
   "source": [
    "df.loc[dates[0]]"
   ]
  },
  {
   "cell_type": "code",
   "execution_count": 24,
   "metadata": {},
   "outputs": [
    {
     "data": {
      "text/plain": [
       "Timestamp('2020-07-22 00:00:00', freq='D')"
      ]
     },
     "execution_count": 24,
     "metadata": {},
     "output_type": "execute_result"
    }
   ],
   "source": [
    "dates[0]"
   ]
  },
  {
   "cell_type": "code",
   "execution_count": 26,
   "metadata": {},
   "outputs": [
    {
     "data": {
      "text/html": [
       "<div>\n",
       "<style scoped>\n",
       "    .dataframe tbody tr th:only-of-type {\n",
       "        vertical-align: middle;\n",
       "    }\n",
       "\n",
       "    .dataframe tbody tr th {\n",
       "        vertical-align: top;\n",
       "    }\n",
       "\n",
       "    .dataframe thead th {\n",
       "        text-align: right;\n",
       "    }\n",
       "</style>\n",
       "<table border=\"1\" class=\"dataframe\">\n",
       "  <thead>\n",
       "    <tr style=\"text-align: right;\">\n",
       "      <th></th>\n",
       "      <th>B</th>\n",
       "      <th>C</th>\n",
       "    </tr>\n",
       "  </thead>\n",
       "  <tbody>\n",
       "    <tr>\n",
       "      <th>2020-07-22</th>\n",
       "      <td>1.265408</td>\n",
       "      <td>0.847359</td>\n",
       "    </tr>\n",
       "    <tr>\n",
       "      <th>2020-07-23</th>\n",
       "      <td>2.441640</td>\n",
       "      <td>-0.852117</td>\n",
       "    </tr>\n",
       "    <tr>\n",
       "      <th>2020-07-24</th>\n",
       "      <td>-1.590205</td>\n",
       "      <td>-0.712084</td>\n",
       "    </tr>\n",
       "    <tr>\n",
       "      <th>2020-07-25</th>\n",
       "      <td>0.966365</td>\n",
       "      <td>-0.913182</td>\n",
       "    </tr>\n",
       "    <tr>\n",
       "      <th>2020-07-26</th>\n",
       "      <td>-0.476259</td>\n",
       "      <td>-0.009779</td>\n",
       "    </tr>\n",
       "    <tr>\n",
       "      <th>2020-07-27</th>\n",
       "      <td>-0.542992</td>\n",
       "      <td>-0.148964</td>\n",
       "    </tr>\n",
       "  </tbody>\n",
       "</table>\n",
       "</div>"
      ],
      "text/plain": [
       "                   B         C\n",
       "2020-07-22  1.265408  0.847359\n",
       "2020-07-23  2.441640 -0.852117\n",
       "2020-07-24 -1.590205 -0.712084\n",
       "2020-07-25  0.966365 -0.913182\n",
       "2020-07-26 -0.476259 -0.009779\n",
       "2020-07-27 -0.542992 -0.148964"
      ]
     },
     "execution_count": 26,
     "metadata": {},
     "output_type": "execute_result"
    }
   ],
   "source": [
    "df.loc[:,['B','C']]"
   ]
  },
  {
   "cell_type": "code",
   "execution_count": 29,
   "metadata": {},
   "outputs": [
    {
     "data": {
      "text/html": [
       "<div>\n",
       "<style scoped>\n",
       "    .dataframe tbody tr th:only-of-type {\n",
       "        vertical-align: middle;\n",
       "    }\n",
       "\n",
       "    .dataframe tbody tr th {\n",
       "        vertical-align: top;\n",
       "    }\n",
       "\n",
       "    .dataframe thead th {\n",
       "        text-align: right;\n",
       "    }\n",
       "</style>\n",
       "<table border=\"1\" class=\"dataframe\">\n",
       "  <thead>\n",
       "    <tr style=\"text-align: right;\">\n",
       "      <th></th>\n",
       "      <th>A</th>\n",
       "      <th>B</th>\n",
       "      <th>C</th>\n",
       "    </tr>\n",
       "  </thead>\n",
       "  <tbody>\n",
       "    <tr>\n",
       "      <th>2020-07-22</th>\n",
       "      <td>0.291611</td>\n",
       "      <td>1.265408</td>\n",
       "      <td>0.847359</td>\n",
       "    </tr>\n",
       "    <tr>\n",
       "      <th>2020-07-23</th>\n",
       "      <td>0.248920</td>\n",
       "      <td>2.441640</td>\n",
       "      <td>-0.852117</td>\n",
       "    </tr>\n",
       "    <tr>\n",
       "      <th>2020-07-24</th>\n",
       "      <td>0.112499</td>\n",
       "      <td>-1.590205</td>\n",
       "      <td>-0.712084</td>\n",
       "    </tr>\n",
       "    <tr>\n",
       "      <th>2020-07-25</th>\n",
       "      <td>2.014416</td>\n",
       "      <td>0.966365</td>\n",
       "      <td>-0.913182</td>\n",
       "    </tr>\n",
       "    <tr>\n",
       "      <th>2020-07-26</th>\n",
       "      <td>-1.111736</td>\n",
       "      <td>-0.476259</td>\n",
       "      <td>-0.009779</td>\n",
       "    </tr>\n",
       "    <tr>\n",
       "      <th>2020-07-27</th>\n",
       "      <td>1.854471</td>\n",
       "      <td>-0.542992</td>\n",
       "      <td>-0.148964</td>\n",
       "    </tr>\n",
       "  </tbody>\n",
       "</table>\n",
       "</div>"
      ],
      "text/plain": [
       "                   A         B         C\n",
       "2020-07-22  0.291611  1.265408  0.847359\n",
       "2020-07-23  0.248920  2.441640 -0.852117\n",
       "2020-07-24  0.112499 -1.590205 -0.712084\n",
       "2020-07-25  2.014416  0.966365 -0.913182\n",
       "2020-07-26 -1.111736 -0.476259 -0.009779\n",
       "2020-07-27  1.854471 -0.542992 -0.148964"
      ]
     },
     "execution_count": 29,
     "metadata": {},
     "output_type": "execute_result"
    }
   ],
   "source": [
    "df.loc[:,'A':'C']"
   ]
  },
  {
   "cell_type": "code",
   "execution_count": 30,
   "metadata": {},
   "outputs": [
    {
     "data": {
      "text/html": [
       "<div>\n",
       "<style scoped>\n",
       "    .dataframe tbody tr th:only-of-type {\n",
       "        vertical-align: middle;\n",
       "    }\n",
       "\n",
       "    .dataframe tbody tr th {\n",
       "        vertical-align: top;\n",
       "    }\n",
       "\n",
       "    .dataframe thead th {\n",
       "        text-align: right;\n",
       "    }\n",
       "</style>\n",
       "<table border=\"1\" class=\"dataframe\">\n",
       "  <thead>\n",
       "    <tr style=\"text-align: right;\">\n",
       "      <th></th>\n",
       "      <th>B</th>\n",
       "      <th>C</th>\n",
       "    </tr>\n",
       "  </thead>\n",
       "  <tbody>\n",
       "    <tr>\n",
       "      <th>2020-07-23</th>\n",
       "      <td>2.441640</td>\n",
       "      <td>-0.852117</td>\n",
       "    </tr>\n",
       "    <tr>\n",
       "      <th>2020-07-24</th>\n",
       "      <td>-1.590205</td>\n",
       "      <td>-0.712084</td>\n",
       "    </tr>\n",
       "    <tr>\n",
       "      <th>2020-07-25</th>\n",
       "      <td>0.966365</td>\n",
       "      <td>-0.913182</td>\n",
       "    </tr>\n",
       "    <tr>\n",
       "      <th>2020-07-26</th>\n",
       "      <td>-0.476259</td>\n",
       "      <td>-0.009779</td>\n",
       "    </tr>\n",
       "  </tbody>\n",
       "</table>\n",
       "</div>"
      ],
      "text/plain": [
       "                   B         C\n",
       "2020-07-23  2.441640 -0.852117\n",
       "2020-07-24 -1.590205 -0.712084\n",
       "2020-07-25  0.966365 -0.913182\n",
       "2020-07-26 -0.476259 -0.009779"
      ]
     },
     "execution_count": 30,
     "metadata": {},
     "output_type": "execute_result"
    }
   ],
   "source": [
    "df.loc['20200723':'20200726','B':'C']"
   ]
  },
  {
   "cell_type": "code",
   "execution_count": 32,
   "metadata": {},
   "outputs": [
    {
     "data": {
      "text/html": [
       "<div>\n",
       "<style scoped>\n",
       "    .dataframe tbody tr th:only-of-type {\n",
       "        vertical-align: middle;\n",
       "    }\n",
       "\n",
       "    .dataframe tbody tr th {\n",
       "        vertical-align: top;\n",
       "    }\n",
       "\n",
       "    .dataframe thead th {\n",
       "        text-align: right;\n",
       "    }\n",
       "</style>\n",
       "<table border=\"1\" class=\"dataframe\">\n",
       "  <thead>\n",
       "    <tr style=\"text-align: right;\">\n",
       "      <th></th>\n",
       "      <th>A</th>\n",
       "      <th>B</th>\n",
       "      <th>C</th>\n",
       "      <th>D</th>\n",
       "    </tr>\n",
       "  </thead>\n",
       "  <tbody>\n",
       "    <tr>\n",
       "      <th>2020-07-22</th>\n",
       "      <td>0.291611</td>\n",
       "      <td>1.265408</td>\n",
       "      <td>0.847359</td>\n",
       "      <td>0.605956</td>\n",
       "    </tr>\n",
       "    <tr>\n",
       "      <th>2020-07-23</th>\n",
       "      <td>0.248920</td>\n",
       "      <td>2.441640</td>\n",
       "      <td>-0.852117</td>\n",
       "      <td>0.306564</td>\n",
       "    </tr>\n",
       "    <tr>\n",
       "      <th>2020-07-24</th>\n",
       "      <td>0.112499</td>\n",
       "      <td>-1.590205</td>\n",
       "      <td>-0.712084</td>\n",
       "      <td>0.023100</td>\n",
       "    </tr>\n",
       "    <tr>\n",
       "      <th>2020-07-25</th>\n",
       "      <td>2.014416</td>\n",
       "      <td>0.966365</td>\n",
       "      <td>-0.913182</td>\n",
       "      <td>1.503060</td>\n",
       "    </tr>\n",
       "    <tr>\n",
       "      <th>2020-07-26</th>\n",
       "      <td>-1.111736</td>\n",
       "      <td>-0.476259</td>\n",
       "      <td>-0.009779</td>\n",
       "      <td>-0.783358</td>\n",
       "    </tr>\n",
       "    <tr>\n",
       "      <th>2020-07-27</th>\n",
       "      <td>1.854471</td>\n",
       "      <td>-0.542992</td>\n",
       "      <td>-0.148964</td>\n",
       "      <td>-0.291622</td>\n",
       "    </tr>\n",
       "  </tbody>\n",
       "</table>\n",
       "</div>"
      ],
      "text/plain": [
       "                   A         B         C         D\n",
       "2020-07-22  0.291611  1.265408  0.847359  0.605956\n",
       "2020-07-23  0.248920  2.441640 -0.852117  0.306564\n",
       "2020-07-24  0.112499 -1.590205 -0.712084  0.023100\n",
       "2020-07-25  2.014416  0.966365 -0.913182  1.503060\n",
       "2020-07-26 -1.111736 -0.476259 -0.009779 -0.783358\n",
       "2020-07-27  1.854471 -0.542992 -0.148964 -0.291622"
      ]
     },
     "execution_count": 32,
     "metadata": {},
     "output_type": "execute_result"
    }
   ],
   "source": [
    "df"
   ]
  },
  {
   "cell_type": "code",
   "execution_count": 33,
   "metadata": {
    "scrolled": true
   },
   "outputs": [
    {
     "data": {
      "text/html": [
       "<div>\n",
       "<style scoped>\n",
       "    .dataframe tbody tr th:only-of-type {\n",
       "        vertical-align: middle;\n",
       "    }\n",
       "\n",
       "    .dataframe tbody tr th {\n",
       "        vertical-align: top;\n",
       "    }\n",
       "\n",
       "    .dataframe thead th {\n",
       "        text-align: right;\n",
       "    }\n",
       "</style>\n",
       "<table border=\"1\" class=\"dataframe\">\n",
       "  <thead>\n",
       "    <tr style=\"text-align: right;\">\n",
       "      <th></th>\n",
       "      <th>A</th>\n",
       "      <th>B</th>\n",
       "    </tr>\n",
       "  </thead>\n",
       "  <tbody>\n",
       "    <tr>\n",
       "      <th>2020-07-25</th>\n",
       "      <td>2.014416</td>\n",
       "      <td>0.966365</td>\n",
       "    </tr>\n",
       "    <tr>\n",
       "      <th>2020-07-26</th>\n",
       "      <td>-1.111736</td>\n",
       "      <td>-0.476259</td>\n",
       "    </tr>\n",
       "  </tbody>\n",
       "</table>\n",
       "</div>"
      ],
      "text/plain": [
       "                   A         B\n",
       "2020-07-25  2.014416  0.966365\n",
       "2020-07-26 -1.111736 -0.476259"
      ]
     },
     "execution_count": 33,
     "metadata": {},
     "output_type": "execute_result"
    }
   ],
   "source": [
    "df.iloc[3:5,0:2]"
   ]
  },
  {
   "cell_type": "code",
   "execution_count": 34,
   "metadata": {},
   "outputs": [
    {
     "data": {
      "text/html": [
       "<div>\n",
       "<style scoped>\n",
       "    .dataframe tbody tr th:only-of-type {\n",
       "        vertical-align: middle;\n",
       "    }\n",
       "\n",
       "    .dataframe tbody tr th {\n",
       "        vertical-align: top;\n",
       "    }\n",
       "\n",
       "    .dataframe thead th {\n",
       "        text-align: right;\n",
       "    }\n",
       "</style>\n",
       "<table border=\"1\" class=\"dataframe\">\n",
       "  <thead>\n",
       "    <tr style=\"text-align: right;\">\n",
       "      <th></th>\n",
       "      <th>A</th>\n",
       "      <th>C</th>\n",
       "    </tr>\n",
       "  </thead>\n",
       "  <tbody>\n",
       "    <tr>\n",
       "      <th>2020-07-23</th>\n",
       "      <td>0.248920</td>\n",
       "      <td>-0.852117</td>\n",
       "    </tr>\n",
       "    <tr>\n",
       "      <th>2020-07-24</th>\n",
       "      <td>0.112499</td>\n",
       "      <td>-0.712084</td>\n",
       "    </tr>\n",
       "    <tr>\n",
       "      <th>2020-07-26</th>\n",
       "      <td>-1.111736</td>\n",
       "      <td>-0.009779</td>\n",
       "    </tr>\n",
       "  </tbody>\n",
       "</table>\n",
       "</div>"
      ],
      "text/plain": [
       "                   A         C\n",
       "2020-07-23  0.248920 -0.852117\n",
       "2020-07-24  0.112499 -0.712084\n",
       "2020-07-26 -1.111736 -0.009779"
      ]
     },
     "execution_count": 34,
     "metadata": {},
     "output_type": "execute_result"
    }
   ],
   "source": [
    "df.iloc[[1,2,4],[0,2]]"
   ]
  },
  {
   "cell_type": "code",
   "execution_count": 35,
   "metadata": {},
   "outputs": [
    {
     "data": {
      "text/html": [
       "<div>\n",
       "<style scoped>\n",
       "    .dataframe tbody tr th:only-of-type {\n",
       "        vertical-align: middle;\n",
       "    }\n",
       "\n",
       "    .dataframe tbody tr th {\n",
       "        vertical-align: top;\n",
       "    }\n",
       "\n",
       "    .dataframe thead th {\n",
       "        text-align: right;\n",
       "    }\n",
       "</style>\n",
       "<table border=\"1\" class=\"dataframe\">\n",
       "  <thead>\n",
       "    <tr style=\"text-align: right;\">\n",
       "      <th></th>\n",
       "      <th>B</th>\n",
       "      <th>C</th>\n",
       "    </tr>\n",
       "  </thead>\n",
       "  <tbody>\n",
       "    <tr>\n",
       "      <th>2020-07-22</th>\n",
       "      <td>1.265408</td>\n",
       "      <td>0.847359</td>\n",
       "    </tr>\n",
       "    <tr>\n",
       "      <th>2020-07-23</th>\n",
       "      <td>2.441640</td>\n",
       "      <td>-0.852117</td>\n",
       "    </tr>\n",
       "    <tr>\n",
       "      <th>2020-07-24</th>\n",
       "      <td>-1.590205</td>\n",
       "      <td>-0.712084</td>\n",
       "    </tr>\n",
       "    <tr>\n",
       "      <th>2020-07-25</th>\n",
       "      <td>0.966365</td>\n",
       "      <td>-0.913182</td>\n",
       "    </tr>\n",
       "    <tr>\n",
       "      <th>2020-07-26</th>\n",
       "      <td>-0.476259</td>\n",
       "      <td>-0.009779</td>\n",
       "    </tr>\n",
       "    <tr>\n",
       "      <th>2020-07-27</th>\n",
       "      <td>-0.542992</td>\n",
       "      <td>-0.148964</td>\n",
       "    </tr>\n",
       "  </tbody>\n",
       "</table>\n",
       "</div>"
      ],
      "text/plain": [
       "                   B         C\n",
       "2020-07-22  1.265408  0.847359\n",
       "2020-07-23  2.441640 -0.852117\n",
       "2020-07-24 -1.590205 -0.712084\n",
       "2020-07-25  0.966365 -0.913182\n",
       "2020-07-26 -0.476259 -0.009779\n",
       "2020-07-27 -0.542992 -0.148964"
      ]
     },
     "execution_count": 35,
     "metadata": {},
     "output_type": "execute_result"
    }
   ],
   "source": [
    "df.iloc[:,1:3]"
   ]
  },
  {
   "cell_type": "code",
   "execution_count": 36,
   "metadata": {},
   "outputs": [
    {
     "data": {
      "text/html": [
       "<div>\n",
       "<style scoped>\n",
       "    .dataframe tbody tr th:only-of-type {\n",
       "        vertical-align: middle;\n",
       "    }\n",
       "\n",
       "    .dataframe tbody tr th {\n",
       "        vertical-align: top;\n",
       "    }\n",
       "\n",
       "    .dataframe thead th {\n",
       "        text-align: right;\n",
       "    }\n",
       "</style>\n",
       "<table border=\"1\" class=\"dataframe\">\n",
       "  <thead>\n",
       "    <tr style=\"text-align: right;\">\n",
       "      <th></th>\n",
       "      <th>A</th>\n",
       "      <th>B</th>\n",
       "      <th>C</th>\n",
       "      <th>D</th>\n",
       "    </tr>\n",
       "  </thead>\n",
       "  <tbody>\n",
       "    <tr>\n",
       "      <th>2020-07-22</th>\n",
       "      <td>0.291611</td>\n",
       "      <td>1.265408</td>\n",
       "      <td>0.847359</td>\n",
       "      <td>0.605956</td>\n",
       "    </tr>\n",
       "    <tr>\n",
       "      <th>2020-07-23</th>\n",
       "      <td>0.248920</td>\n",
       "      <td>2.441640</td>\n",
       "      <td>-0.852117</td>\n",
       "      <td>0.306564</td>\n",
       "    </tr>\n",
       "    <tr>\n",
       "      <th>2020-07-24</th>\n",
       "      <td>0.112499</td>\n",
       "      <td>-1.590205</td>\n",
       "      <td>-0.712084</td>\n",
       "      <td>0.023100</td>\n",
       "    </tr>\n",
       "    <tr>\n",
       "      <th>2020-07-25</th>\n",
       "      <td>2.014416</td>\n",
       "      <td>0.966365</td>\n",
       "      <td>-0.913182</td>\n",
       "      <td>1.503060</td>\n",
       "    </tr>\n",
       "    <tr>\n",
       "      <th>2020-07-26</th>\n",
       "      <td>-1.111736</td>\n",
       "      <td>-0.476259</td>\n",
       "      <td>-0.009779</td>\n",
       "      <td>-0.783358</td>\n",
       "    </tr>\n",
       "    <tr>\n",
       "      <th>2020-07-27</th>\n",
       "      <td>1.854471</td>\n",
       "      <td>-0.542992</td>\n",
       "      <td>-0.148964</td>\n",
       "      <td>-0.291622</td>\n",
       "    </tr>\n",
       "  </tbody>\n",
       "</table>\n",
       "</div>"
      ],
      "text/plain": [
       "                   A         B         C         D\n",
       "2020-07-22  0.291611  1.265408  0.847359  0.605956\n",
       "2020-07-23  0.248920  2.441640 -0.852117  0.306564\n",
       "2020-07-24  0.112499 -1.590205 -0.712084  0.023100\n",
       "2020-07-25  2.014416  0.966365 -0.913182  1.503060\n",
       "2020-07-26 -1.111736 -0.476259 -0.009779 -0.783358\n",
       "2020-07-27  1.854471 -0.542992 -0.148964 -0.291622"
      ]
     },
     "execution_count": 36,
     "metadata": {},
     "output_type": "execute_result"
    }
   ],
   "source": [
    "df"
   ]
  },
  {
   "cell_type": "code",
   "execution_count": 37,
   "metadata": {},
   "outputs": [
    {
     "data": {
      "text/html": [
       "<div>\n",
       "<style scoped>\n",
       "    .dataframe tbody tr th:only-of-type {\n",
       "        vertical-align: middle;\n",
       "    }\n",
       "\n",
       "    .dataframe tbody tr th {\n",
       "        vertical-align: top;\n",
       "    }\n",
       "\n",
       "    .dataframe thead th {\n",
       "        text-align: right;\n",
       "    }\n",
       "</style>\n",
       "<table border=\"1\" class=\"dataframe\">\n",
       "  <thead>\n",
       "    <tr style=\"text-align: right;\">\n",
       "      <th></th>\n",
       "      <th>A</th>\n",
       "      <th>B</th>\n",
       "      <th>C</th>\n",
       "      <th>D</th>\n",
       "    </tr>\n",
       "  </thead>\n",
       "  <tbody>\n",
       "    <tr>\n",
       "      <th>2020-07-22</th>\n",
       "      <td>0.291611</td>\n",
       "      <td>1.265408</td>\n",
       "      <td>0.847359</td>\n",
       "      <td>0.605956</td>\n",
       "    </tr>\n",
       "    <tr>\n",
       "      <th>2020-07-23</th>\n",
       "      <td>0.248920</td>\n",
       "      <td>2.441640</td>\n",
       "      <td>-0.852117</td>\n",
       "      <td>0.306564</td>\n",
       "    </tr>\n",
       "    <tr>\n",
       "      <th>2020-07-24</th>\n",
       "      <td>0.112499</td>\n",
       "      <td>-1.590205</td>\n",
       "      <td>-0.712084</td>\n",
       "      <td>0.023100</td>\n",
       "    </tr>\n",
       "    <tr>\n",
       "      <th>2020-07-25</th>\n",
       "      <td>2.014416</td>\n",
       "      <td>0.966365</td>\n",
       "      <td>-0.913182</td>\n",
       "      <td>1.503060</td>\n",
       "    </tr>\n",
       "    <tr>\n",
       "      <th>2020-07-27</th>\n",
       "      <td>1.854471</td>\n",
       "      <td>-0.542992</td>\n",
       "      <td>-0.148964</td>\n",
       "      <td>-0.291622</td>\n",
       "    </tr>\n",
       "  </tbody>\n",
       "</table>\n",
       "</div>"
      ],
      "text/plain": [
       "                   A         B         C         D\n",
       "2020-07-22  0.291611  1.265408  0.847359  0.605956\n",
       "2020-07-23  0.248920  2.441640 -0.852117  0.306564\n",
       "2020-07-24  0.112499 -1.590205 -0.712084  0.023100\n",
       "2020-07-25  2.014416  0.966365 -0.913182  1.503060\n",
       "2020-07-27  1.854471 -0.542992 -0.148964 -0.291622"
      ]
     },
     "execution_count": 37,
     "metadata": {},
     "output_type": "execute_result"
    }
   ],
   "source": [
    "df[df['A']>0]"
   ]
  },
  {
   "cell_type": "code",
   "execution_count": 38,
   "metadata": {},
   "outputs": [],
   "source": [
    "over_0_a=df[df['A']>0]"
   ]
  },
  {
   "cell_type": "code",
   "execution_count": 39,
   "metadata": {},
   "outputs": [
    {
     "data": {
      "text/html": [
       "<div>\n",
       "<style scoped>\n",
       "    .dataframe tbody tr th:only-of-type {\n",
       "        vertical-align: middle;\n",
       "    }\n",
       "\n",
       "    .dataframe tbody tr th {\n",
       "        vertical-align: top;\n",
       "    }\n",
       "\n",
       "    .dataframe thead th {\n",
       "        text-align: right;\n",
       "    }\n",
       "</style>\n",
       "<table border=\"1\" class=\"dataframe\">\n",
       "  <thead>\n",
       "    <tr style=\"text-align: right;\">\n",
       "      <th></th>\n",
       "      <th>A</th>\n",
       "      <th>B</th>\n",
       "      <th>C</th>\n",
       "      <th>D</th>\n",
       "    </tr>\n",
       "  </thead>\n",
       "  <tbody>\n",
       "    <tr>\n",
       "      <th>2020-07-22</th>\n",
       "      <td>0.291611</td>\n",
       "      <td>1.265408</td>\n",
       "      <td>0.847359</td>\n",
       "      <td>0.605956</td>\n",
       "    </tr>\n",
       "    <tr>\n",
       "      <th>2020-07-23</th>\n",
       "      <td>0.248920</td>\n",
       "      <td>2.441640</td>\n",
       "      <td>-0.852117</td>\n",
       "      <td>0.306564</td>\n",
       "    </tr>\n",
       "    <tr>\n",
       "      <th>2020-07-24</th>\n",
       "      <td>0.112499</td>\n",
       "      <td>-1.590205</td>\n",
       "      <td>-0.712084</td>\n",
       "      <td>0.023100</td>\n",
       "    </tr>\n",
       "    <tr>\n",
       "      <th>2020-07-25</th>\n",
       "      <td>2.014416</td>\n",
       "      <td>0.966365</td>\n",
       "      <td>-0.913182</td>\n",
       "      <td>1.503060</td>\n",
       "    </tr>\n",
       "    <tr>\n",
       "      <th>2020-07-27</th>\n",
       "      <td>1.854471</td>\n",
       "      <td>-0.542992</td>\n",
       "      <td>-0.148964</td>\n",
       "      <td>-0.291622</td>\n",
       "    </tr>\n",
       "  </tbody>\n",
       "</table>\n",
       "</div>"
      ],
      "text/plain": [
       "                   A         B         C         D\n",
       "2020-07-22  0.291611  1.265408  0.847359  0.605956\n",
       "2020-07-23  0.248920  2.441640 -0.852117  0.306564\n",
       "2020-07-24  0.112499 -1.590205 -0.712084  0.023100\n",
       "2020-07-25  2.014416  0.966365 -0.913182  1.503060\n",
       "2020-07-27  1.854471 -0.542992 -0.148964 -0.291622"
      ]
     },
     "execution_count": 39,
     "metadata": {},
     "output_type": "execute_result"
    }
   ],
   "source": [
    "over_0_a"
   ]
  },
  {
   "cell_type": "code",
   "execution_count": 40,
   "metadata": {},
   "outputs": [
    {
     "data": {
      "text/html": [
       "<div>\n",
       "<style scoped>\n",
       "    .dataframe tbody tr th:only-of-type {\n",
       "        vertical-align: middle;\n",
       "    }\n",
       "\n",
       "    .dataframe tbody tr th {\n",
       "        vertical-align: top;\n",
       "    }\n",
       "\n",
       "    .dataframe thead th {\n",
       "        text-align: right;\n",
       "    }\n",
       "</style>\n",
       "<table border=\"1\" class=\"dataframe\">\n",
       "  <thead>\n",
       "    <tr style=\"text-align: right;\">\n",
       "      <th></th>\n",
       "      <th>A</th>\n",
       "      <th>B</th>\n",
       "      <th>C</th>\n",
       "      <th>D</th>\n",
       "    </tr>\n",
       "  </thead>\n",
       "  <tbody>\n",
       "    <tr>\n",
       "      <th>2020-07-22</th>\n",
       "      <td>0.291611</td>\n",
       "      <td>1.265408</td>\n",
       "      <td>0.847359</td>\n",
       "      <td>0.605956</td>\n",
       "    </tr>\n",
       "    <tr>\n",
       "      <th>2020-07-23</th>\n",
       "      <td>0.248920</td>\n",
       "      <td>2.441640</td>\n",
       "      <td>NaN</td>\n",
       "      <td>0.306564</td>\n",
       "    </tr>\n",
       "    <tr>\n",
       "      <th>2020-07-24</th>\n",
       "      <td>0.112499</td>\n",
       "      <td>NaN</td>\n",
       "      <td>NaN</td>\n",
       "      <td>0.023100</td>\n",
       "    </tr>\n",
       "    <tr>\n",
       "      <th>2020-07-25</th>\n",
       "      <td>2.014416</td>\n",
       "      <td>0.966365</td>\n",
       "      <td>NaN</td>\n",
       "      <td>1.503060</td>\n",
       "    </tr>\n",
       "    <tr>\n",
       "      <th>2020-07-26</th>\n",
       "      <td>NaN</td>\n",
       "      <td>NaN</td>\n",
       "      <td>NaN</td>\n",
       "      <td>NaN</td>\n",
       "    </tr>\n",
       "    <tr>\n",
       "      <th>2020-07-27</th>\n",
       "      <td>1.854471</td>\n",
       "      <td>NaN</td>\n",
       "      <td>NaN</td>\n",
       "      <td>NaN</td>\n",
       "    </tr>\n",
       "  </tbody>\n",
       "</table>\n",
       "</div>"
      ],
      "text/plain": [
       "                   A         B         C         D\n",
       "2020-07-22  0.291611  1.265408  0.847359  0.605956\n",
       "2020-07-23  0.248920  2.441640       NaN  0.306564\n",
       "2020-07-24  0.112499       NaN       NaN  0.023100\n",
       "2020-07-25  2.014416  0.966365       NaN  1.503060\n",
       "2020-07-26       NaN       NaN       NaN       NaN\n",
       "2020-07-27  1.854471       NaN       NaN       NaN"
      ]
     },
     "execution_count": 40,
     "metadata": {},
     "output_type": "execute_result"
    }
   ],
   "source": [
    "df[df>0]"
   ]
  },
  {
   "cell_type": "code",
   "execution_count": 41,
   "metadata": {},
   "outputs": [],
   "source": [
    "df2=df.copy()"
   ]
  },
  {
   "cell_type": "code",
   "execution_count": 42,
   "metadata": {},
   "outputs": [
    {
     "data": {
      "text/html": [
       "<div>\n",
       "<style scoped>\n",
       "    .dataframe tbody tr th:only-of-type {\n",
       "        vertical-align: middle;\n",
       "    }\n",
       "\n",
       "    .dataframe tbody tr th {\n",
       "        vertical-align: top;\n",
       "    }\n",
       "\n",
       "    .dataframe thead th {\n",
       "        text-align: right;\n",
       "    }\n",
       "</style>\n",
       "<table border=\"1\" class=\"dataframe\">\n",
       "  <thead>\n",
       "    <tr style=\"text-align: right;\">\n",
       "      <th></th>\n",
       "      <th>A</th>\n",
       "      <th>B</th>\n",
       "      <th>C</th>\n",
       "      <th>D</th>\n",
       "    </tr>\n",
       "  </thead>\n",
       "  <tbody>\n",
       "    <tr>\n",
       "      <th>2020-07-22</th>\n",
       "      <td>0.291611</td>\n",
       "      <td>1.265408</td>\n",
       "      <td>0.847359</td>\n",
       "      <td>0.605956</td>\n",
       "    </tr>\n",
       "    <tr>\n",
       "      <th>2020-07-23</th>\n",
       "      <td>0.248920</td>\n",
       "      <td>2.441640</td>\n",
       "      <td>-0.852117</td>\n",
       "      <td>0.306564</td>\n",
       "    </tr>\n",
       "    <tr>\n",
       "      <th>2020-07-24</th>\n",
       "      <td>0.112499</td>\n",
       "      <td>-1.590205</td>\n",
       "      <td>-0.712084</td>\n",
       "      <td>0.023100</td>\n",
       "    </tr>\n",
       "    <tr>\n",
       "      <th>2020-07-25</th>\n",
       "      <td>2.014416</td>\n",
       "      <td>0.966365</td>\n",
       "      <td>-0.913182</td>\n",
       "      <td>1.503060</td>\n",
       "    </tr>\n",
       "    <tr>\n",
       "      <th>2020-07-26</th>\n",
       "      <td>-1.111736</td>\n",
       "      <td>-0.476259</td>\n",
       "      <td>-0.009779</td>\n",
       "      <td>-0.783358</td>\n",
       "    </tr>\n",
       "    <tr>\n",
       "      <th>2020-07-27</th>\n",
       "      <td>1.854471</td>\n",
       "      <td>-0.542992</td>\n",
       "      <td>-0.148964</td>\n",
       "      <td>-0.291622</td>\n",
       "    </tr>\n",
       "  </tbody>\n",
       "</table>\n",
       "</div>"
      ],
      "text/plain": [
       "                   A         B         C         D\n",
       "2020-07-22  0.291611  1.265408  0.847359  0.605956\n",
       "2020-07-23  0.248920  2.441640 -0.852117  0.306564\n",
       "2020-07-24  0.112499 -1.590205 -0.712084  0.023100\n",
       "2020-07-25  2.014416  0.966365 -0.913182  1.503060\n",
       "2020-07-26 -1.111736 -0.476259 -0.009779 -0.783358\n",
       "2020-07-27  1.854471 -0.542992 -0.148964 -0.291622"
      ]
     },
     "execution_count": 42,
     "metadata": {},
     "output_type": "execute_result"
    }
   ],
   "source": [
    "df2"
   ]
  },
  {
   "cell_type": "code",
   "execution_count": 43,
   "metadata": {},
   "outputs": [],
   "source": [
    "df2['E']=['one','one','two','three','four','three']"
   ]
  },
  {
   "cell_type": "code",
   "execution_count": 44,
   "metadata": {},
   "outputs": [
    {
     "data": {
      "text/html": [
       "<div>\n",
       "<style scoped>\n",
       "    .dataframe tbody tr th:only-of-type {\n",
       "        vertical-align: middle;\n",
       "    }\n",
       "\n",
       "    .dataframe tbody tr th {\n",
       "        vertical-align: top;\n",
       "    }\n",
       "\n",
       "    .dataframe thead th {\n",
       "        text-align: right;\n",
       "    }\n",
       "</style>\n",
       "<table border=\"1\" class=\"dataframe\">\n",
       "  <thead>\n",
       "    <tr style=\"text-align: right;\">\n",
       "      <th></th>\n",
       "      <th>A</th>\n",
       "      <th>B</th>\n",
       "      <th>C</th>\n",
       "      <th>D</th>\n",
       "      <th>E</th>\n",
       "    </tr>\n",
       "  </thead>\n",
       "  <tbody>\n",
       "    <tr>\n",
       "      <th>2020-07-22</th>\n",
       "      <td>0.291611</td>\n",
       "      <td>1.265408</td>\n",
       "      <td>0.847359</td>\n",
       "      <td>0.605956</td>\n",
       "      <td>one</td>\n",
       "    </tr>\n",
       "    <tr>\n",
       "      <th>2020-07-23</th>\n",
       "      <td>0.248920</td>\n",
       "      <td>2.441640</td>\n",
       "      <td>-0.852117</td>\n",
       "      <td>0.306564</td>\n",
       "      <td>one</td>\n",
       "    </tr>\n",
       "    <tr>\n",
       "      <th>2020-07-24</th>\n",
       "      <td>0.112499</td>\n",
       "      <td>-1.590205</td>\n",
       "      <td>-0.712084</td>\n",
       "      <td>0.023100</td>\n",
       "      <td>two</td>\n",
       "    </tr>\n",
       "    <tr>\n",
       "      <th>2020-07-25</th>\n",
       "      <td>2.014416</td>\n",
       "      <td>0.966365</td>\n",
       "      <td>-0.913182</td>\n",
       "      <td>1.503060</td>\n",
       "      <td>three</td>\n",
       "    </tr>\n",
       "    <tr>\n",
       "      <th>2020-07-26</th>\n",
       "      <td>-1.111736</td>\n",
       "      <td>-0.476259</td>\n",
       "      <td>-0.009779</td>\n",
       "      <td>-0.783358</td>\n",
       "      <td>four</td>\n",
       "    </tr>\n",
       "    <tr>\n",
       "      <th>2020-07-27</th>\n",
       "      <td>1.854471</td>\n",
       "      <td>-0.542992</td>\n",
       "      <td>-0.148964</td>\n",
       "      <td>-0.291622</td>\n",
       "      <td>three</td>\n",
       "    </tr>\n",
       "  </tbody>\n",
       "</table>\n",
       "</div>"
      ],
      "text/plain": [
       "                   A         B         C         D      E\n",
       "2020-07-22  0.291611  1.265408  0.847359  0.605956    one\n",
       "2020-07-23  0.248920  2.441640 -0.852117  0.306564    one\n",
       "2020-07-24  0.112499 -1.590205 -0.712084  0.023100    two\n",
       "2020-07-25  2.014416  0.966365 -0.913182  1.503060  three\n",
       "2020-07-26 -1.111736 -0.476259 -0.009779 -0.783358   four\n",
       "2020-07-27  1.854471 -0.542992 -0.148964 -0.291622  three"
      ]
     },
     "execution_count": 44,
     "metadata": {},
     "output_type": "execute_result"
    }
   ],
   "source": [
    "df2"
   ]
  },
  {
   "cell_type": "code",
   "execution_count": 45,
   "metadata": {},
   "outputs": [
    {
     "data": {
      "text/plain": [
       "2020-07-22    False\n",
       "2020-07-23    False\n",
       "2020-07-24     True\n",
       "2020-07-25    False\n",
       "2020-07-26     True\n",
       "2020-07-27    False\n",
       "Freq: D, Name: E, dtype: bool"
      ]
     },
     "execution_count": 45,
     "metadata": {},
     "output_type": "execute_result"
    }
   ],
   "source": [
    "df2['E'].isin(['two','four'])"
   ]
  },
  {
   "cell_type": "code",
   "execution_count": 46,
   "metadata": {},
   "outputs": [
    {
     "data": {
      "text/html": [
       "<div>\n",
       "<style scoped>\n",
       "    .dataframe tbody tr th:only-of-type {\n",
       "        vertical-align: middle;\n",
       "    }\n",
       "\n",
       "    .dataframe tbody tr th {\n",
       "        vertical-align: top;\n",
       "    }\n",
       "\n",
       "    .dataframe thead th {\n",
       "        text-align: right;\n",
       "    }\n",
       "</style>\n",
       "<table border=\"1\" class=\"dataframe\">\n",
       "  <thead>\n",
       "    <tr style=\"text-align: right;\">\n",
       "      <th></th>\n",
       "      <th>A</th>\n",
       "      <th>B</th>\n",
       "      <th>C</th>\n",
       "      <th>D</th>\n",
       "      <th>E</th>\n",
       "    </tr>\n",
       "  </thead>\n",
       "  <tbody>\n",
       "    <tr>\n",
       "      <th>2020-07-24</th>\n",
       "      <td>0.112499</td>\n",
       "      <td>-1.590205</td>\n",
       "      <td>-0.712084</td>\n",
       "      <td>0.023100</td>\n",
       "      <td>two</td>\n",
       "    </tr>\n",
       "    <tr>\n",
       "      <th>2020-07-26</th>\n",
       "      <td>-1.111736</td>\n",
       "      <td>-0.476259</td>\n",
       "      <td>-0.009779</td>\n",
       "      <td>-0.783358</td>\n",
       "      <td>four</td>\n",
       "    </tr>\n",
       "  </tbody>\n",
       "</table>\n",
       "</div>"
      ],
      "text/plain": [
       "                   A         B         C         D     E\n",
       "2020-07-24  0.112499 -1.590205 -0.712084  0.023100   two\n",
       "2020-07-26 -1.111736 -0.476259 -0.009779 -0.783358  four"
      ]
     },
     "execution_count": 46,
     "metadata": {},
     "output_type": "execute_result"
    }
   ],
   "source": [
    "df2[df2['E'].isin(['two','four'])]"
   ]
  },
  {
   "cell_type": "code",
   "execution_count": 47,
   "metadata": {},
   "outputs": [],
   "source": [
    "twofour_in=df2[df2['E'].isin(['two','four'])]"
   ]
  },
  {
   "cell_type": "code",
   "execution_count": 48,
   "metadata": {},
   "outputs": [
    {
     "data": {
      "text/html": [
       "<div>\n",
       "<style scoped>\n",
       "    .dataframe tbody tr th:only-of-type {\n",
       "        vertical-align: middle;\n",
       "    }\n",
       "\n",
       "    .dataframe tbody tr th {\n",
       "        vertical-align: top;\n",
       "    }\n",
       "\n",
       "    .dataframe thead th {\n",
       "        text-align: right;\n",
       "    }\n",
       "</style>\n",
       "<table border=\"1\" class=\"dataframe\">\n",
       "  <thead>\n",
       "    <tr style=\"text-align: right;\">\n",
       "      <th></th>\n",
       "      <th>A</th>\n",
       "      <th>B</th>\n",
       "      <th>C</th>\n",
       "      <th>D</th>\n",
       "      <th>E</th>\n",
       "    </tr>\n",
       "  </thead>\n",
       "  <tbody>\n",
       "    <tr>\n",
       "      <th>2020-07-24</th>\n",
       "      <td>0.112499</td>\n",
       "      <td>-1.590205</td>\n",
       "      <td>-0.712084</td>\n",
       "      <td>0.023100</td>\n",
       "      <td>two</td>\n",
       "    </tr>\n",
       "    <tr>\n",
       "      <th>2020-07-26</th>\n",
       "      <td>-1.111736</td>\n",
       "      <td>-0.476259</td>\n",
       "      <td>-0.009779</td>\n",
       "      <td>-0.783358</td>\n",
       "      <td>four</td>\n",
       "    </tr>\n",
       "  </tbody>\n",
       "</table>\n",
       "</div>"
      ],
      "text/plain": [
       "                   A         B         C         D     E\n",
       "2020-07-24  0.112499 -1.590205 -0.712084  0.023100   two\n",
       "2020-07-26 -1.111736 -0.476259 -0.009779 -0.783358  four"
      ]
     },
     "execution_count": 48,
     "metadata": {},
     "output_type": "execute_result"
    }
   ],
   "source": [
    "twofour_in"
   ]
  },
  {
   "cell_type": "code",
   "execution_count": 49,
   "metadata": {},
   "outputs": [
    {
     "data": {
      "text/html": [
       "<div>\n",
       "<style scoped>\n",
       "    .dataframe tbody tr th:only-of-type {\n",
       "        vertical-align: middle;\n",
       "    }\n",
       "\n",
       "    .dataframe tbody tr th {\n",
       "        vertical-align: top;\n",
       "    }\n",
       "\n",
       "    .dataframe thead th {\n",
       "        text-align: right;\n",
       "    }\n",
       "</style>\n",
       "<table border=\"1\" class=\"dataframe\">\n",
       "  <thead>\n",
       "    <tr style=\"text-align: right;\">\n",
       "      <th></th>\n",
       "      <th>A</th>\n",
       "      <th>B</th>\n",
       "      <th>C</th>\n",
       "      <th>D</th>\n",
       "    </tr>\n",
       "  </thead>\n",
       "  <tbody>\n",
       "    <tr>\n",
       "      <th>2020-07-22</th>\n",
       "      <td>0.291611</td>\n",
       "      <td>1.265408</td>\n",
       "      <td>0.847359</td>\n",
       "      <td>0.605956</td>\n",
       "    </tr>\n",
       "    <tr>\n",
       "      <th>2020-07-23</th>\n",
       "      <td>0.248920</td>\n",
       "      <td>2.441640</td>\n",
       "      <td>-0.852117</td>\n",
       "      <td>0.306564</td>\n",
       "    </tr>\n",
       "    <tr>\n",
       "      <th>2020-07-24</th>\n",
       "      <td>0.112499</td>\n",
       "      <td>-1.590205</td>\n",
       "      <td>-0.712084</td>\n",
       "      <td>0.023100</td>\n",
       "    </tr>\n",
       "    <tr>\n",
       "      <th>2020-07-25</th>\n",
       "      <td>2.014416</td>\n",
       "      <td>0.966365</td>\n",
       "      <td>-0.913182</td>\n",
       "      <td>1.503060</td>\n",
       "    </tr>\n",
       "    <tr>\n",
       "      <th>2020-07-26</th>\n",
       "      <td>-1.111736</td>\n",
       "      <td>-0.476259</td>\n",
       "      <td>-0.009779</td>\n",
       "      <td>-0.783358</td>\n",
       "    </tr>\n",
       "    <tr>\n",
       "      <th>2020-07-27</th>\n",
       "      <td>1.854471</td>\n",
       "      <td>-0.542992</td>\n",
       "      <td>-0.148964</td>\n",
       "      <td>-0.291622</td>\n",
       "    </tr>\n",
       "  </tbody>\n",
       "</table>\n",
       "</div>"
      ],
      "text/plain": [
       "                   A         B         C         D\n",
       "2020-07-22  0.291611  1.265408  0.847359  0.605956\n",
       "2020-07-23  0.248920  2.441640 -0.852117  0.306564\n",
       "2020-07-24  0.112499 -1.590205 -0.712084  0.023100\n",
       "2020-07-25  2.014416  0.966365 -0.913182  1.503060\n",
       "2020-07-26 -1.111736 -0.476259 -0.009779 -0.783358\n",
       "2020-07-27  1.854471 -0.542992 -0.148964 -0.291622"
      ]
     },
     "execution_count": 49,
     "metadata": {},
     "output_type": "execute_result"
    }
   ],
   "source": [
    "df"
   ]
  },
  {
   "cell_type": "code",
   "execution_count": 50,
   "metadata": {},
   "outputs": [
    {
     "data": {
      "text/html": [
       "<div>\n",
       "<style scoped>\n",
       "    .dataframe tbody tr th:only-of-type {\n",
       "        vertical-align: middle;\n",
       "    }\n",
       "\n",
       "    .dataframe tbody tr th {\n",
       "        vertical-align: top;\n",
       "    }\n",
       "\n",
       "    .dataframe thead th {\n",
       "        text-align: right;\n",
       "    }\n",
       "</style>\n",
       "<table border=\"1\" class=\"dataframe\">\n",
       "  <thead>\n",
       "    <tr style=\"text-align: right;\">\n",
       "      <th></th>\n",
       "      <th>A</th>\n",
       "      <th>B</th>\n",
       "      <th>C</th>\n",
       "      <th>D</th>\n",
       "    </tr>\n",
       "  </thead>\n",
       "  <tbody>\n",
       "    <tr>\n",
       "      <th>2020-07-22</th>\n",
       "      <td>0.291611</td>\n",
       "      <td>1.265408</td>\n",
       "      <td>0.847359</td>\n",
       "      <td>0.605956</td>\n",
       "    </tr>\n",
       "    <tr>\n",
       "      <th>2020-07-23</th>\n",
       "      <td>0.540531</td>\n",
       "      <td>3.707048</td>\n",
       "      <td>-0.004759</td>\n",
       "      <td>0.912520</td>\n",
       "    </tr>\n",
       "    <tr>\n",
       "      <th>2020-07-24</th>\n",
       "      <td>0.653031</td>\n",
       "      <td>2.116843</td>\n",
       "      <td>-0.716843</td>\n",
       "      <td>0.935621</td>\n",
       "    </tr>\n",
       "    <tr>\n",
       "      <th>2020-07-25</th>\n",
       "      <td>2.667446</td>\n",
       "      <td>3.083208</td>\n",
       "      <td>-1.630025</td>\n",
       "      <td>2.438680</td>\n",
       "    </tr>\n",
       "    <tr>\n",
       "      <th>2020-07-26</th>\n",
       "      <td>1.555710</td>\n",
       "      <td>2.606949</td>\n",
       "      <td>-1.639804</td>\n",
       "      <td>1.655322</td>\n",
       "    </tr>\n",
       "    <tr>\n",
       "      <th>2020-07-27</th>\n",
       "      <td>3.410182</td>\n",
       "      <td>2.063958</td>\n",
       "      <td>-1.788768</td>\n",
       "      <td>1.363700</td>\n",
       "    </tr>\n",
       "  </tbody>\n",
       "</table>\n",
       "</div>"
      ],
      "text/plain": [
       "                   A         B         C         D\n",
       "2020-07-22  0.291611  1.265408  0.847359  0.605956\n",
       "2020-07-23  0.540531  3.707048 -0.004759  0.912520\n",
       "2020-07-24  0.653031  2.116843 -0.716843  0.935621\n",
       "2020-07-25  2.667446  3.083208 -1.630025  2.438680\n",
       "2020-07-26  1.555710  2.606949 -1.639804  1.655322\n",
       "2020-07-27  3.410182  2.063958 -1.788768  1.363700"
      ]
     },
     "execution_count": 50,
     "metadata": {},
     "output_type": "execute_result"
    }
   ],
   "source": [
    "df.apply(np.cumsum)"
   ]
  },
  {
   "cell_type": "code",
   "execution_count": 51,
   "metadata": {},
   "outputs": [
    {
     "data": {
      "text/plain": [
       "A    3.126152\n",
       "B    4.031844\n",
       "C    1.760541\n",
       "D    2.286418\n",
       "dtype: float64"
      ]
     },
     "execution_count": 51,
     "metadata": {},
     "output_type": "execute_result"
    }
   ],
   "source": [
    "df.apply(lambda x: x.max()-x.min())"
   ]
  },
  {
   "cell_type": "code",
   "execution_count": 52,
   "metadata": {},
   "outputs": [
    {
     "data": {
      "text/html": [
       "<div>\n",
       "<style scoped>\n",
       "    .dataframe tbody tr th:only-of-type {\n",
       "        vertical-align: middle;\n",
       "    }\n",
       "\n",
       "    .dataframe tbody tr th {\n",
       "        vertical-align: top;\n",
       "    }\n",
       "\n",
       "    .dataframe thead th {\n",
       "        text-align: right;\n",
       "    }\n",
       "</style>\n",
       "<table border=\"1\" class=\"dataframe\">\n",
       "  <thead>\n",
       "    <tr style=\"text-align: right;\">\n",
       "      <th></th>\n",
       "      <th>A</th>\n",
       "      <th>B</th>\n",
       "      <th>C</th>\n",
       "      <th>D</th>\n",
       "    </tr>\n",
       "  </thead>\n",
       "  <tbody>\n",
       "    <tr>\n",
       "      <th>2020-07-22</th>\n",
       "      <td>0.291611</td>\n",
       "      <td>1.265408</td>\n",
       "      <td>0.847359</td>\n",
       "      <td>0.605956</td>\n",
       "    </tr>\n",
       "    <tr>\n",
       "      <th>2020-07-23</th>\n",
       "      <td>0.248920</td>\n",
       "      <td>2.441640</td>\n",
       "      <td>-0.852117</td>\n",
       "      <td>0.306564</td>\n",
       "    </tr>\n",
       "    <tr>\n",
       "      <th>2020-07-24</th>\n",
       "      <td>0.112499</td>\n",
       "      <td>-1.590205</td>\n",
       "      <td>-0.712084</td>\n",
       "      <td>0.023100</td>\n",
       "    </tr>\n",
       "    <tr>\n",
       "      <th>2020-07-25</th>\n",
       "      <td>2.014416</td>\n",
       "      <td>0.966365</td>\n",
       "      <td>-0.913182</td>\n",
       "      <td>1.503060</td>\n",
       "    </tr>\n",
       "    <tr>\n",
       "      <th>2020-07-26</th>\n",
       "      <td>-1.111736</td>\n",
       "      <td>-0.476259</td>\n",
       "      <td>-0.009779</td>\n",
       "      <td>-0.783358</td>\n",
       "    </tr>\n",
       "    <tr>\n",
       "      <th>2020-07-27</th>\n",
       "      <td>1.854471</td>\n",
       "      <td>-0.542992</td>\n",
       "      <td>-0.148964</td>\n",
       "      <td>-0.291622</td>\n",
       "    </tr>\n",
       "  </tbody>\n",
       "</table>\n",
       "</div>"
      ],
      "text/plain": [
       "                   A         B         C         D\n",
       "2020-07-22  0.291611  1.265408  0.847359  0.605956\n",
       "2020-07-23  0.248920  2.441640 -0.852117  0.306564\n",
       "2020-07-24  0.112499 -1.590205 -0.712084  0.023100\n",
       "2020-07-25  2.014416  0.966365 -0.913182  1.503060\n",
       "2020-07-26 -1.111736 -0.476259 -0.009779 -0.783358\n",
       "2020-07-27  1.854471 -0.542992 -0.148964 -0.291622"
      ]
     },
     "execution_count": 52,
     "metadata": {},
     "output_type": "execute_result"
    }
   ],
   "source": [
    "df"
   ]
  },
  {
   "cell_type": "code",
   "execution_count": 53,
   "metadata": {},
   "outputs": [
    {
     "data": {
      "text/plain": [
       "A    3.126152\n",
       "B    4.031844\n",
       "C    1.760541\n",
       "D    2.286418\n",
       "dtype: float64"
      ]
     },
     "execution_count": 53,
     "metadata": {},
     "output_type": "execute_result"
    }
   ],
   "source": [
    "df.apply(lambda x: x.max()-x.min())"
   ]
  },
  {
   "cell_type": "code",
   "execution_count": null,
   "metadata": {},
   "outputs": [],
   "source": []
  }
 ],
 "metadata": {
  "kernelspec": {
   "display_name": "Python 3",
   "language": "python",
   "name": "python3"
  },
  "language_info": {
   "codemirror_mode": {
    "name": "ipython",
    "version": 3
   },
   "file_extension": ".py",
   "mimetype": "text/x-python",
   "name": "python",
   "nbconvert_exporter": "python",
   "pygments_lexer": "ipython3",
   "version": "3.8.3"
  }
 },
 "nbformat": 4,
 "nbformat_minor": 4
}
